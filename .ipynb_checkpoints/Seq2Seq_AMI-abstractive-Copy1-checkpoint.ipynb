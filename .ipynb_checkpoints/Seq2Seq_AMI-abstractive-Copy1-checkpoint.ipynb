{
 "cells": [
  {
   "cell_type": "markdown",
   "metadata": {},
   "source": [
    "## Testing Seq 2 Seq Modeling\n",
    "Reference: \n",
    "- https://towardsdatascience.com/understanding-encoder-decoder-sequence-to-sequence-model-679e04af4346\n",
    "- https://blog.keras.io/a-ten-minute-introduction-to-sequence-to-sequence-learning-in-keras.html\n",
    "- https://www.analyticsvidhya.com/blog/2019/06/comprehensive-guide-text-summarization-using-deep-learning-python/\n",
    "- https://github.com/aravindpai/How-to-build-own-text-summarizer-using-deep-learning/blob/master/How_to_build_own_text_summarizer_using_deep_learning.ipynb\n",
    "\n",
    "Used Dataset:\n",
    "- AMI Dataset\n",
    "http://groups.inf.ed.ac.uk/ami/download/"
   ]
  },
  {
   "cell_type": "code",
   "execution_count": 1,
   "metadata": {},
   "outputs": [
    {
     "name": "stderr",
     "output_type": "stream",
     "text": [
      "Using TensorFlow backend.\n"
     ]
    }
   ],
   "source": [
    "# Importing libraries\n",
    "import numpy as np\n",
    "import pandas as pd \n",
    "import re\n",
    "from bs4 import BeautifulSoup\n",
    "from keras.preprocessing.text import Tokenizer \n",
    "from keras.preprocessing.sequence import pad_sequences\n",
    "from nltk.corpus import stopwords\n",
    "from tensorflow.keras.layers import Input, LSTM, Embedding, Dense, Concatenate, TimeDistributed\n",
    "from tensorflow.keras.models import Model\n",
    "from tensorflow.keras.callbacks import EarlyStopping\n",
    "from tensorflow.keras.models import load_model\n",
    "import warnings\n",
    "pd.set_option(\"display.max_colwidth\", 200)\n",
    "warnings.filterwarnings(\"ignore\")\n",
    "from attention import AttentionLayer"
   ]
  },
  {
   "cell_type": "code",
   "execution_count": 2,
   "metadata": {},
   "outputs": [],
   "source": [
    "df_transcripts=pd.read_csv(\"./data/ami_transcripts.csv\", sep=\";\")"
   ]
  },
  {
   "cell_type": "code",
   "execution_count": 3,
   "metadata": {},
   "outputs": [
    {
     "data": {
      "text/html": [
       "<div>\n",
       "<style scoped>\n",
       "    .dataframe tbody tr th:only-of-type {\n",
       "        vertical-align: middle;\n",
       "    }\n",
       "\n",
       "    .dataframe tbody tr th {\n",
       "        vertical-align: top;\n",
       "    }\n",
       "\n",
       "    .dataframe thead th {\n",
       "        text-align: right;\n",
       "    }\n",
       "</style>\n",
       "<table border=\"1\" class=\"dataframe\">\n",
       "  <thead>\n",
       "    <tr style=\"text-align: right;\">\n",
       "      <th></th>\n",
       "      <th>Unnamed: 0</th>\n",
       "      <th>filename</th>\n",
       "      <th>transcripts</th>\n",
       "    </tr>\n",
       "  </thead>\n",
       "  <tbody>\n",
       "    <tr>\n",
       "      <th>0</th>\n",
       "      <td>0</td>\n",
       "      <td>EN2001a.transcript.txt</td>\n",
       "      <td>Okay. Does anyone want to see uh Steve's feedback from the specification? Right. Not really, um just what he's talking about, like duplication of effort and Like duplication of effort and stuff, a...</td>\n",
       "    </tr>\n",
       "    <tr>\n",
       "      <th>1</th>\n",
       "      <td>1</td>\n",
       "      <td>EN2001b.transcript.txt</td>\n",
       "      <td>Hmm It's with cameras. You look quite funny at the moment, Tim. Nice. Mm yes. Yes, perhaps yeah, but I mean they're all very very similar, all those X_M_L_ files. I had um a look at the um for exa...</td>\n",
       "    </tr>\n",
       "    <tr>\n",
       "      <th>2</th>\n",
       "      <td>2</td>\n",
       "      <td>EN2001d.transcript.txt</td>\n",
       "      <td>Ah yeah. Mm-hmm. So uh which version of my data was that, the very first one? Yeah. Okay. Yeah, v I mean really doesn't matter. Just wanted to know if I'm just Yeah. Yeah, probably. Probably all t...</td>\n",
       "    </tr>\n",
       "    <tr>\n",
       "      <th>3</th>\n",
       "      <td>3</td>\n",
       "      <td>EN2001e.transcript.txt</td>\n",
       "      <td>Yeah. Yeah. Yeah, uh so let's perhaps uh in the meantime talk about the um um numbers we assign to the dialogue acts because um yeah, I didn't know that you left out those who don't have words. So...</td>\n",
       "    </tr>\n",
       "    <tr>\n",
       "      <th>4</th>\n",
       "      <td>4</td>\n",
       "      <td>EN2002a.transcript.txt</td>\n",
       "      <td>Wonder how much of the meetings is talking about the stuff at the meetings. Yeah. Not a lot. No. Hmm. Okay. Sounds like you've done some stuff. So 'Kay. Hmm. Hmm. Everything. Yeah. Hmm. Yeah. Yeah...</td>\n",
       "    </tr>\n",
       "  </tbody>\n",
       "</table>\n",
       "</div>"
      ],
      "text/plain": [
       "   Unnamed: 0                filename  \\\n",
       "0           0  EN2001a.transcript.txt   \n",
       "1           1  EN2001b.transcript.txt   \n",
       "2           2  EN2001d.transcript.txt   \n",
       "3           3  EN2001e.transcript.txt   \n",
       "4           4  EN2002a.transcript.txt   \n",
       "\n",
       "                                                                                                                                                                                               transcripts  \n",
       "0  Okay. Does anyone want to see uh Steve's feedback from the specification? Right. Not really, um just what he's talking about, like duplication of effort and Like duplication of effort and stuff, a...  \n",
       "1  Hmm It's with cameras. You look quite funny at the moment, Tim. Nice. Mm yes. Yes, perhaps yeah, but I mean they're all very very similar, all those X_M_L_ files. I had um a look at the um for exa...  \n",
       "2  Ah yeah. Mm-hmm. So uh which version of my data was that, the very first one? Yeah. Okay. Yeah, v I mean really doesn't matter. Just wanted to know if I'm just Yeah. Yeah, probably. Probably all t...  \n",
       "3  Yeah. Yeah. Yeah, uh so let's perhaps uh in the meantime talk about the um um numbers we assign to the dialogue acts because um yeah, I didn't know that you left out those who don't have words. So...  \n",
       "4  Wonder how much of the meetings is talking about the stuff at the meetings. Yeah. Not a lot. No. Hmm. Okay. Sounds like you've done some stuff. So 'Kay. Hmm. Hmm. Everything. Yeah. Hmm. Yeah. Yeah...  "
      ]
     },
     "execution_count": 3,
     "metadata": {},
     "output_type": "execute_result"
    }
   ],
   "source": [
    "df_transcripts.head()"
   ]
  },
  {
   "cell_type": "code",
   "execution_count": 4,
   "metadata": {},
   "outputs": [],
   "source": [
    "df_abstractive = pd.read_csv(\"./data/ami_abstractive.csv\", sep=\";\")"
   ]
  },
  {
   "cell_type": "code",
   "execution_count": 5,
   "metadata": {},
   "outputs": [
    {
     "data": {
      "text/plain": [
       "['ES2002a', 'abssumm', 'txt']"
      ]
     },
     "execution_count": 5,
     "metadata": {},
     "output_type": "execute_result"
    }
   ],
   "source": [
    "df_abstractive['filename'][0].split('.')"
   ]
  },
  {
   "cell_type": "code",
   "execution_count": 6,
   "metadata": {},
   "outputs": [],
   "source": [
    "# clean filename\n",
    "for i in range(len(df_transcripts)):\n",
    "    transcripts_filename = df_transcripts['filename'][i].split('.')[0]\n",
    "    df_transcripts['filename'][i] = transcripts_filename"
   ]
  },
  {
   "cell_type": "code",
   "execution_count": 7,
   "metadata": {},
   "outputs": [],
   "source": [
    "# clean filename\n",
    "for i in range(len(df_abstractive)):\n",
    "    abstractive_filename = df_abstractive['filename'][i].split('.')[0]\n",
    "    df_abstractive['filename'][i] = abstractive_filename"
   ]
  },
  {
   "cell_type": "code",
   "execution_count": 8,
   "metadata": {},
   "outputs": [
    {
     "data": {
      "text/html": [
       "<div>\n",
       "<style scoped>\n",
       "    .dataframe tbody tr th:only-of-type {\n",
       "        vertical-align: middle;\n",
       "    }\n",
       "\n",
       "    .dataframe tbody tr th {\n",
       "        vertical-align: top;\n",
       "    }\n",
       "\n",
       "    .dataframe thead th {\n",
       "        text-align: right;\n",
       "    }\n",
       "</style>\n",
       "<table border=\"1\" class=\"dataframe\">\n",
       "  <thead>\n",
       "    <tr style=\"text-align: right;\">\n",
       "      <th></th>\n",
       "      <th>filename</th>\n",
       "      <th>abstractive</th>\n",
       "    </tr>\n",
       "  </thead>\n",
       "  <tbody>\n",
       "    <tr>\n",
       "      <th>0</th>\n",
       "      <td>ES2002a</td>\n",
       "      <td>The project manager introduced the upcoming project to the team members and then the team members participated in an exercise in which they drew their favorite animal and discussed what they liked...</td>\n",
       "    </tr>\n",
       "    <tr>\n",
       "      <th>1</th>\n",
       "      <td>ES2002b</td>\n",
       "      <td>The project manager briefed the team on some new requirements to consider when designing the remote. The user interface designer presented two existing products and discussed what was wrong with e...</td>\n",
       "    </tr>\n",
       "    <tr>\n",
       "      <th>2</th>\n",
       "      <td>ES2002c</td>\n",
       "      <td>The project manager recapped the decisions made in the previous meeting. The marketing expert discussed his findings from trend watching reports, stressing the need for a product that has a fancy ...</td>\n",
       "    </tr>\n",
       "    <tr>\n",
       "      <th>3</th>\n",
       "      <td>ES2002d</td>\n",
       "      <td>The project manager recapped the decisions made in the previous meeting and two team members presented their prototype and discussed the features the prototype contained. The team then looked at t...</td>\n",
       "    </tr>\n",
       "    <tr>\n",
       "      <th>4</th>\n",
       "      <td>ES2003a</td>\n",
       "      <td>The team members introduced themselves to each other by name and by their roles in the project. The project manager introduced the upcoming project to the team and then the team members participat...</td>\n",
       "    </tr>\n",
       "    <tr>\n",
       "      <th>...</th>\n",
       "      <td>...</td>\n",
       "      <td>...</td>\n",
       "    </tr>\n",
       "    <tr>\n",
       "      <th>137</th>\n",
       "      <td>TS3011d</td>\n",
       "      <td>The UI and ID presented a prototype drawing of the remote control design. It can be used as a normal remote, but the speech recognition also provides a more advanced alternative interface. The spe...</td>\n",
       "    </tr>\n",
       "    <tr>\n",
       "      <th>138</th>\n",
       "      <td>TS3012a</td>\n",
       "      <td>The goal of the project is to design an original, trendy and user-friendly remote control for TV. The team comprises the project manager, the marketing expert, who is looking at user needs, the us...</td>\n",
       "    </tr>\n",
       "    <tr>\n",
       "      <th>139</th>\n",
       "      <td>TS3012b</td>\n",
       "      <td>Customers are willing to pay more for fancier looking remotes. They like innovative technology like speech recognition and LCD screens. It also transpires that remotes are easy to lose. Everyone a...</td>\n",
       "    </tr>\n",
       "    <tr>\n",
       "      <th>140</th>\n",
       "      <td>TS3012c</td>\n",
       "      <td>For the conceptual design, the ID suggested to use kinetic dynamo as energy source. The decision veered towards the basic battery option with no recharging station. They also decided to go for a s...</td>\n",
       "    </tr>\n",
       "    <tr>\n",
       "      <th>141</th>\n",
       "      <td>TS3012d</td>\n",
       "      <td>The UI and ID presented a prototype drawing of the remote control design. The rubber case is yellow with black buttons and dark yellow for the menus. There are buttons for teletext, favourite chan...</td>\n",
       "    </tr>\n",
       "  </tbody>\n",
       "</table>\n",
       "<p>142 rows × 2 columns</p>\n",
       "</div>"
      ],
      "text/plain": [
       "    filename  \\\n",
       "0    ES2002a   \n",
       "1    ES2002b   \n",
       "2    ES2002c   \n",
       "3    ES2002d   \n",
       "4    ES2003a   \n",
       "..       ...   \n",
       "137  TS3011d   \n",
       "138  TS3012a   \n",
       "139  TS3012b   \n",
       "140  TS3012c   \n",
       "141  TS3012d   \n",
       "\n",
       "                                                                                                                                                                                                 abstractive  \n",
       "0    The project manager introduced the upcoming project to the team members and then the team members participated in an exercise in which they drew their favorite animal and discussed what they liked...  \n",
       "1    The project manager briefed the team on some new requirements to consider when designing the remote. The user interface designer presented two existing products and discussed what was wrong with e...  \n",
       "2    The project manager recapped the decisions made in the previous meeting. The marketing expert discussed his findings from trend watching reports, stressing the need for a product that has a fancy ...  \n",
       "3    The project manager recapped the decisions made in the previous meeting and two team members presented their prototype and discussed the features the prototype contained. The team then looked at t...  \n",
       "4    The team members introduced themselves to each other by name and by their roles in the project. The project manager introduced the upcoming project to the team and then the team members participat...  \n",
       "..                                                                                                                                                                                                       ...  \n",
       "137  The UI and ID presented a prototype drawing of the remote control design. It can be used as a normal remote, but the speech recognition also provides a more advanced alternative interface. The spe...  \n",
       "138  The goal of the project is to design an original, trendy and user-friendly remote control for TV. The team comprises the project manager, the marketing expert, who is looking at user needs, the us...  \n",
       "139  Customers are willing to pay more for fancier looking remotes. They like innovative technology like speech recognition and LCD screens. It also transpires that remotes are easy to lose. Everyone a...  \n",
       "140  For the conceptual design, the ID suggested to use kinetic dynamo as energy source. The decision veered towards the basic battery option with no recharging station. They also decided to go for a s...  \n",
       "141  The UI and ID presented a prototype drawing of the remote control design. The rubber case is yellow with black buttons and dark yellow for the menus. There are buttons for teletext, favourite chan...  \n",
       "\n",
       "[142 rows x 2 columns]"
      ]
     },
     "execution_count": 8,
     "metadata": {},
     "output_type": "execute_result"
    }
   ],
   "source": [
    "df_abstractive"
   ]
  },
  {
   "cell_type": "code",
   "execution_count": 9,
   "metadata": {},
   "outputs": [],
   "source": [
    "data = pd.merge(df_transcripts, df_abstractive, on='filename', how='left')"
   ]
  },
  {
   "cell_type": "code",
   "execution_count": 10,
   "metadata": {},
   "outputs": [
    {
     "data": {
      "text/html": [
       "<div>\n",
       "<style scoped>\n",
       "    .dataframe tbody tr th:only-of-type {\n",
       "        vertical-align: middle;\n",
       "    }\n",
       "\n",
       "    .dataframe tbody tr th {\n",
       "        vertical-align: top;\n",
       "    }\n",
       "\n",
       "    .dataframe thead th {\n",
       "        text-align: right;\n",
       "    }\n",
       "</style>\n",
       "<table border=\"1\" class=\"dataframe\">\n",
       "  <thead>\n",
       "    <tr style=\"text-align: right;\">\n",
       "      <th></th>\n",
       "      <th>Unnamed: 0</th>\n",
       "      <th>filename</th>\n",
       "      <th>transcripts</th>\n",
       "      <th>abstractive</th>\n",
       "    </tr>\n",
       "  </thead>\n",
       "  <tbody>\n",
       "    <tr>\n",
       "      <th>0</th>\n",
       "      <td>0</td>\n",
       "      <td>EN2001a</td>\n",
       "      <td>Okay. Does anyone want to see uh Steve's feedback from the specification? Right. Not really, um just what he's talking about, like duplication of effort and Like duplication of effort and stuff, a...</td>\n",
       "      <td>NaN</td>\n",
       "    </tr>\n",
       "    <tr>\n",
       "      <th>1</th>\n",
       "      <td>1</td>\n",
       "      <td>EN2001b</td>\n",
       "      <td>Hmm It's with cameras. You look quite funny at the moment, Tim. Nice. Mm yes. Yes, perhaps yeah, but I mean they're all very very similar, all those X_M_L_ files. I had um a look at the um for exa...</td>\n",
       "      <td>NaN</td>\n",
       "    </tr>\n",
       "    <tr>\n",
       "      <th>2</th>\n",
       "      <td>2</td>\n",
       "      <td>EN2001d</td>\n",
       "      <td>Ah yeah. Mm-hmm. So uh which version of my data was that, the very first one? Yeah. Okay. Yeah, v I mean really doesn't matter. Just wanted to know if I'm just Yeah. Yeah, probably. Probably all t...</td>\n",
       "      <td>NaN</td>\n",
       "    </tr>\n",
       "    <tr>\n",
       "      <th>3</th>\n",
       "      <td>3</td>\n",
       "      <td>EN2001e</td>\n",
       "      <td>Yeah. Yeah. Yeah, uh so let's perhaps uh in the meantime talk about the um um numbers we assign to the dialogue acts because um yeah, I didn't know that you left out those who don't have words. So...</td>\n",
       "      <td>NaN</td>\n",
       "    </tr>\n",
       "    <tr>\n",
       "      <th>4</th>\n",
       "      <td>4</td>\n",
       "      <td>EN2002a</td>\n",
       "      <td>Wonder how much of the meetings is talking about the stuff at the meetings. Yeah. Not a lot. No. Hmm. Okay. Sounds like you've done some stuff. So 'Kay. Hmm. Hmm. Everything. Yeah. Hmm. Yeah. Yeah...</td>\n",
       "      <td>NaN</td>\n",
       "    </tr>\n",
       "  </tbody>\n",
       "</table>\n",
       "</div>"
      ],
      "text/plain": [
       "   Unnamed: 0 filename  \\\n",
       "0           0  EN2001a   \n",
       "1           1  EN2001b   \n",
       "2           2  EN2001d   \n",
       "3           3  EN2001e   \n",
       "4           4  EN2002a   \n",
       "\n",
       "                                                                                                                                                                                               transcripts  \\\n",
       "0  Okay. Does anyone want to see uh Steve's feedback from the specification? Right. Not really, um just what he's talking about, like duplication of effort and Like duplication of effort and stuff, a...   \n",
       "1  Hmm It's with cameras. You look quite funny at the moment, Tim. Nice. Mm yes. Yes, perhaps yeah, but I mean they're all very very similar, all those X_M_L_ files. I had um a look at the um for exa...   \n",
       "2  Ah yeah. Mm-hmm. So uh which version of my data was that, the very first one? Yeah. Okay. Yeah, v I mean really doesn't matter. Just wanted to know if I'm just Yeah. Yeah, probably. Probably all t...   \n",
       "3  Yeah. Yeah. Yeah, uh so let's perhaps uh in the meantime talk about the um um numbers we assign to the dialogue acts because um yeah, I didn't know that you left out those who don't have words. So...   \n",
       "4  Wonder how much of the meetings is talking about the stuff at the meetings. Yeah. Not a lot. No. Hmm. Okay. Sounds like you've done some stuff. So 'Kay. Hmm. Hmm. Everything. Yeah. Hmm. Yeah. Yeah...   \n",
       "\n",
       "  abstractive  \n",
       "0         NaN  \n",
       "1         NaN  \n",
       "2         NaN  \n",
       "3         NaN  \n",
       "4         NaN  "
      ]
     },
     "execution_count": 10,
     "metadata": {},
     "output_type": "execute_result"
    }
   ],
   "source": [
    "data.head()"
   ]
  },
  {
   "cell_type": "code",
   "execution_count": 11,
   "metadata": {},
   "outputs": [],
   "source": [
    "data.drop_duplicates(subset=['transcripts'],inplace=True) #dropping duplicates\n",
    "data.dropna(axis=0,inplace=True) #dropping na"
   ]
  },
  {
   "cell_type": "code",
   "execution_count": 12,
   "metadata": {},
   "outputs": [
    {
     "data": {
      "text/html": [
       "<div>\n",
       "<style scoped>\n",
       "    .dataframe tbody tr th:only-of-type {\n",
       "        vertical-align: middle;\n",
       "    }\n",
       "\n",
       "    .dataframe tbody tr th {\n",
       "        vertical-align: top;\n",
       "    }\n",
       "\n",
       "    .dataframe thead th {\n",
       "        text-align: right;\n",
       "    }\n",
       "</style>\n",
       "<table border=\"1\" class=\"dataframe\">\n",
       "  <thead>\n",
       "    <tr style=\"text-align: right;\">\n",
       "      <th></th>\n",
       "      <th>Unnamed: 0</th>\n",
       "      <th>filename</th>\n",
       "      <th>transcripts</th>\n",
       "      <th>abstractive</th>\n",
       "    </tr>\n",
       "  </thead>\n",
       "  <tbody>\n",
       "    <tr>\n",
       "      <th>16</th>\n",
       "      <td>16</td>\n",
       "      <td>ES2002a</td>\n",
       "      <td>Hi, I'm David and I'm supposed to be an industrial designer. Um, I just got the project announcement about what the project is. Designing a remote control. That's about it, didn't get anything els...</td>\n",
       "      <td>The project manager introduced the upcoming project to the team members and then the team members participated in an exercise in which they drew their favorite animal and discussed what they liked...</td>\n",
       "    </tr>\n",
       "    <tr>\n",
       "      <th>17</th>\n",
       "      <td>17</td>\n",
       "      <td>ES2002b</td>\n",
       "      <td>Mm yeah. Nope, we're all set. Which which is the clunky one, the one on left or on the right?.. Okay. No. I'll add it later, I guess the presentation. No. No. Um function F_ eight. Function, the b...</td>\n",
       "      <td>The project manager briefed the team on some new requirements to consider when designing the remote. The user interface designer presented two existing products and discussed what was wrong with e...</td>\n",
       "    </tr>\n",
       "    <tr>\n",
       "      <th>18</th>\n",
       "      <td>18</td>\n",
       "      <td>ES2002c</td>\n",
       "      <td>'S to do now is to decide how to fulfil what your stuff is, so in that sense so it does kind of make sense, yeah. Yep. Yep. Yep. Mm-hmm. No. Yep. Mm-hmm. Yep. It's probably not sending. Yeah. Yep,...</td>\n",
       "      <td>The project manager recapped the decisions made in the previous meeting. The marketing expert discussed his findings from trend watching reports, stressing the need for a product that has a fancy ...</td>\n",
       "    </tr>\n",
       "    <tr>\n",
       "      <th>19</th>\n",
       "      <td>19</td>\n",
       "      <td>ES2002d</td>\n",
       "      <td>No. Ninja Homer, made in Japan. And there isn't uh d it doesn't open up to the advanced functions? So the advanced functions are still hidden from you, but they're hidden in the sense that um they...</td>\n",
       "      <td>The project manager recapped the decisions made in the previous meeting and two team members presented their prototype and discussed the features the prototype contained. The team then looked at t...</td>\n",
       "    </tr>\n",
       "    <tr>\n",
       "      <th>20</th>\n",
       "      <td>20</td>\n",
       "      <td>ES2003a</td>\n",
       "      <td>Uh, Dave Cochrane. User Interface Defin Designer, yes. Um Um, the monkey, um. The one f uh in fact this is a somewhat oblique reference in fact to uh well my I have a three uh three y year old dau...</td>\n",
       "      <td>The team members introduced themselves to each other by name and by their roles in the project. The project manager introduced the upcoming project to the team and then the team members participat...</td>\n",
       "    </tr>\n",
       "  </tbody>\n",
       "</table>\n",
       "</div>"
      ],
      "text/plain": [
       "    Unnamed: 0 filename  \\\n",
       "16          16  ES2002a   \n",
       "17          17  ES2002b   \n",
       "18          18  ES2002c   \n",
       "19          19  ES2002d   \n",
       "20          20  ES2003a   \n",
       "\n",
       "                                                                                                                                                                                                transcripts  \\\n",
       "16  Hi, I'm David and I'm supposed to be an industrial designer. Um, I just got the project announcement about what the project is. Designing a remote control. That's about it, didn't get anything els...   \n",
       "17  Mm yeah. Nope, we're all set. Which which is the clunky one, the one on left or on the right?.. Okay. No. I'll add it later, I guess the presentation. No. No. Um function F_ eight. Function, the b...   \n",
       "18  'S to do now is to decide how to fulfil what your stuff is, so in that sense so it does kind of make sense, yeah. Yep. Yep. Yep. Mm-hmm. No. Yep. Mm-hmm. Yep. It's probably not sending. Yeah. Yep,...   \n",
       "19  No. Ninja Homer, made in Japan. And there isn't uh d it doesn't open up to the advanced functions? So the advanced functions are still hidden from you, but they're hidden in the sense that um they...   \n",
       "20  Uh, Dave Cochrane. User Interface Defin Designer, yes. Um Um, the monkey, um. The one f uh in fact this is a somewhat oblique reference in fact to uh well my I have a three uh three y year old dau...   \n",
       "\n",
       "                                                                                                                                                                                                abstractive  \n",
       "16  The project manager introduced the upcoming project to the team members and then the team members participated in an exercise in which they drew their favorite animal and discussed what they liked...  \n",
       "17  The project manager briefed the team on some new requirements to consider when designing the remote. The user interface designer presented two existing products and discussed what was wrong with e...  \n",
       "18  The project manager recapped the decisions made in the previous meeting. The marketing expert discussed his findings from trend watching reports, stressing the need for a product that has a fancy ...  \n",
       "19  The project manager recapped the decisions made in the previous meeting and two team members presented their prototype and discussed the features the prototype contained. The team then looked at t...  \n",
       "20  The team members introduced themselves to each other by name and by their roles in the project. The project manager introduced the upcoming project to the team and then the team members participat...  "
      ]
     },
     "execution_count": 12,
     "metadata": {},
     "output_type": "execute_result"
    }
   ],
   "source": [
    "data.head()"
   ]
  },
  {
   "cell_type": "code",
   "execution_count": 13,
   "metadata": {},
   "outputs": [],
   "source": [
    "contraction_mapping = {\"ain't\": \"is not\", \"aren't\": \"are not\",\"can't\": \"cannot\", \"'cause\": \"because\", \"could've\": \"could have\", \"couldn't\": \"could not\",\n",
    "                           \"didn't\": \"did not\",  \"doesn't\": \"does not\", \"don't\": \"do not\", \"hadn't\": \"had not\", \"hasn't\": \"has not\", \"haven't\": \"have not\",\n",
    "                           \"he'd\": \"he would\",\"he'll\": \"he will\", \"he's\": \"he is\", \"how'd\": \"how did\", \"how'd'y\": \"how do you\", \"how'll\": \"how will\", \"how's\": \"how is\",\n",
    "                           \"I'd\": \"I would\", \"I'd've\": \"I would have\", \"I'll\": \"I will\", \"I'll've\": \"I will have\",\"I'm\": \"I am\", \"I've\": \"I have\", \"i'd\": \"i would\",\n",
    "                           \"i'd've\": \"i would have\", \"i'll\": \"i will\",  \"i'll've\": \"i will have\",\"i'm\": \"i am\", \"i've\": \"i have\", \"isn't\": \"is not\", \"it'd\": \"it would\",\n",
    "                           \"it'd've\": \"it would have\", \"it'll\": \"it will\", \"it'll've\": \"it will have\",\"it's\": \"it is\", \"let's\": \"let us\", \"ma'am\": \"madam\",\n",
    "                           \"mayn't\": \"may not\", \"might've\": \"might have\",\"mightn't\": \"might not\",\"mightn't've\": \"might not have\", \"must've\": \"must have\",\n",
    "                           \"mustn't\": \"must not\", \"mustn't've\": \"must not have\", \"needn't\": \"need not\", \"needn't've\": \"need not have\",\"o'clock\": \"of the clock\",\n",
    "                           \"oughtn't\": \"ought not\", \"oughtn't've\": \"ought not have\", \"shan't\": \"shall not\", \"sha'n't\": \"shall not\", \"shan't've\": \"shall not have\",\n",
    "                           \"she'd\": \"she would\", \"she'd've\": \"she would have\", \"she'll\": \"she will\", \"she'll've\": \"she will have\", \"she's\": \"she is\",\n",
    "                           \"should've\": \"should have\", \"shouldn't\": \"should not\", \"shouldn't've\": \"should not have\", \"so've\": \"so have\",\"so's\": \"so as\",\n",
    "                           \"this's\": \"this is\",\"that'd\": \"that would\", \"that'd've\": \"that would have\", \"that's\": \"that is\", \"there'd\": \"there would\",\n",
    "                           \"there'd've\": \"there would have\", \"there's\": \"there is\", \"here's\": \"here is\",\"they'd\": \"they would\", \"they'd've\": \"they would have\",\n",
    "                           \"they'll\": \"they will\", \"they'll've\": \"they will have\", \"they're\": \"they are\", \"they've\": \"they have\", \"to've\": \"to have\",\n",
    "                           \"wasn't\": \"was not\", \"we'd\": \"we would\", \"we'd've\": \"we would have\", \"we'll\": \"we will\", \"we'll've\": \"we will have\", \"we're\": \"we are\",\n",
    "                           \"we've\": \"we have\", \"weren't\": \"were not\", \"what'll\": \"what will\", \"what'll've\": \"what will have\", \"what're\": \"what are\",\n",
    "                           \"what's\": \"what is\", \"what've\": \"what have\", \"when's\": \"when is\", \"when've\": \"when have\", \"where'd\": \"where did\", \"where's\": \"where is\",\n",
    "                           \"where've\": \"where have\", \"who'll\": \"who will\", \"who'll've\": \"who will have\", \"who's\": \"who is\", \"who've\": \"who have\",\n",
    "                           \"why's\": \"why is\", \"why've\": \"why have\", \"will've\": \"will have\", \"won't\": \"will not\", \"won't've\": \"will not have\",\n",
    "                           \"would've\": \"would have\", \"wouldn't\": \"would not\", \"wouldn't've\": \"would not have\", \"y'all\": \"you all\",\n",
    "                           \"y'all'd\": \"you all would\",\"y'all'd've\": \"you all would have\",\"y'all're\": \"you all are\",\"y'all've\": \"you all have\",\n",
    "                           \"you'd\": \"you would\", \"you'd've\": \"you would have\", \"you'll\": \"you will\", \"you'll've\": \"you will have\",\n",
    "                           \"you're\": \"you are\", \"you've\": \"you have\"}"
   ]
  },
  {
   "cell_type": "markdown",
   "metadata": {},
   "source": [
    "## Preprocessing\n",
    "- Convert everything to lowercase\n",
    "- Remove HTML tags\n",
    "- Contraction mapping\n",
    "- Remove (‘s)\n",
    "- Remove any text inside the parenthesis ( )\n",
    "- Eliminate punctuations and special characters\n",
    "- Remove stopwords\n",
    "- Remove short words\n",
    "- Remove 'um' 'hmm'"
   ]
  },
  {
   "cell_type": "code",
   "execution_count": 14,
   "metadata": {},
   "outputs": [],
   "source": [
    "# import nltk\n",
    "# nltk.download('stopwords')"
   ]
  },
  {
   "cell_type": "code",
   "execution_count": 15,
   "metadata": {},
   "outputs": [],
   "source": [
    "stop_words = set(stopwords.words('english')) \n",
    "\n",
    "def text_cleaner(text,num):\n",
    "    newString = text.lower()\n",
    "    newString = BeautifulSoup(newString, \"lxml\").text\n",
    "    newString = re.sub(r'\\([^)]*\\)', '', newString)\n",
    "    newString = re.sub('\"','', newString)\n",
    "    newString = ' '.join([contraction_mapping[t] if t in contraction_mapping else t for t in newString.split(\" \")])    \n",
    "    newString = re.sub(r\"'s\\b\",\"\",newString)\n",
    "    newString = re.sub(\"[^a-zA-Z]\", \" \", newString) \n",
    "    newString = re.sub('[m]{2,}', 'mm', newString)\n",
    "    newString = re.sub('hmm', '', newString)\n",
    "    newString = re.sub('um', '', newString)\n",
    "    newString = re.sub('mm', '', newString)\n",
    "    if(num==0):\n",
    "        tokens = [w for w in newString.split() if not w in stop_words]\n",
    "    else:\n",
    "        tokens=newString.split()\n",
    "    long_words=[]\n",
    "    for i in tokens:\n",
    "        if len(i)>1:                                                 #removing short word\n",
    "            long_words.append(i)   \n",
    "    return (\" \".join(long_words)).strip()"
   ]
  },
  {
   "cell_type": "code",
   "execution_count": 16,
   "metadata": {},
   "outputs": [],
   "source": [
    "#call the function\n",
    "cleaned_text = []\n",
    "for t in data['transcripts']:\n",
    "    cleaned_text.append(text_cleaner(t,0))"
   ]
  },
  {
   "cell_type": "code",
   "execution_count": 17,
   "metadata": {},
   "outputs": [
    {
     "data": {
      "text/plain": [
       "['hi david supposed industrial designer got project announcement project designing remote control get anything else get thing cool much gear okay cannot draw yeah well anyway know first animal think top head yes big reason allergic animals allergic animal fur fish natural choice yeah kind like whales come go eat everything sight quite harmless mild interesting tail bit big think dinner dog make sense maybe design point view complicated characters like european languages need buttons possibly yeah keep losing finding really pain know mean usually quite small want right slipped behind couch kicked table know yep think one factor would production cost cap depends much cram price think main factor cool okay right well kick meeting project gonna next twenty five minutes first kind make sure know laura project manager want introduce okay great okay designing new remote control oh record actually david andrew craig arrived time yeah des uh design new remote control see supposed original trendy user friendly kind brief three different stages design really sure guys already received emails get everybody got okay gonna like individual work meeting repeat process three times point get try whiteboard uh get draw favourite animal favourite characteristics would like go first good yeah yeah right lovely right take long like got awful lot discuss ok oh feel like rush anyway ach might get know mine gonna think spot whale ah okay god still know gonna write gonna choose dog well draw different kind dog favourite animal dog home really look like actually looks like pig actually ah well oh good uh mixture uh various things like suggest tail wags friendly cheery always pleased see kind affectionate uh quite quite wee well know take much space uh funny thing chases tail well quite amusing think dinner sudden get start chasing tail round living room yeah uh yeah maybe maybe right find yeah okay next uh okay uh need discuss project finance according brief gonna selling remote control twenty five euro aiming make fifty million euro gonna selling international scale uh want cost uh twelve fifty euros fifty percent selling price sure together dunno imagine good question imagine probably sale actually probably retailer uh sell whatever price want know mean think fact going sold internationally bearing design think oh yeah regions stuff yeah yeah okay yeah well remote control think suppose depends complicated remote control yeah yeah okay like terms like wealth country like much money people spend things like aye see mean yeah marketing good marketing thoughts oh gosh writing yeah yeah yeah like much know remote control cost well twenty five euro mean like eighteen pounds something much sixteen seventeen eighteen pounds dunno never bought remote control know good remote control would get yeah suppose look kind cool giicky right okay let scoot ahead okay well anybody anything add uh finance issue thin actually would useful though would knew like money would get yeah yeah oh five minutes end meeting oh okay bit behind yeah right think like main design aim remote control know satellite regular telly everything yeah even like know notes wanna watch like might put oh want watch look oh good idea extra functionalities okay uh would wel gonna wrap pretty quickly next couple minutes check nothing else okay anything else anybody wants add like remote controls used would really like part new one keep losing okay yeah get ones like whistle make really high pitched noise beep mean something would want include think dunno okay maybe goodness still feels quite primitive maybe like touch screen something okay uh huh okay well guess industrial designer looks better yeah okay okay right well wrap next meeting gonna thirty minutes ten twelve watch inbetween industrial designer gonna working know actual working design know user interface technical functions guess know like talking actually uh marketing executive thinking actually know requirements fulfil get instructions emailed guess yeah th functional design stage next guess uh end meeting got little message lot sooner thought would uh huh yeah th okay well quickly supposed finish guess us mean probably want kind unique selling point know yeah yeah okay right okay end meeting uh thank coming craig user interface yeah well favourite animal would monkey small cute furry uh planet apes becomes real gonna yeah know parents went bought remote controls got fed four five different remote controls things house many devices control uh great andrew uh marketing expert yeah yeah go fine alright one right okay nice alright favourite animal like beagle charac favourite characteristics right uh right well basically high priority animal willing take lot physical affection family yeah lots personality uh fit robust good health blue blue beagle family beagle coulda told whole lot beagles boy let tell impressionist alright superb sketch way yep see dog yep see rooster kind aware th cha tail chasing probably little got lots attention forever conditioned kay go uh bas twel alright yeah okay cost like production cost twelve fifty selling price wholesale retail like shelf sale sale anyway yeah okay okay okay alright yes well right away wondering th th uh like players zones frequencies something well uh characters different uh keypad styles symbols know yeah yeah yeah al thing international top price thinking price might might appeal certain market one region whereas another different chara characteristic like basic product podi positioning twenty five euro remote control might big hit london might big hit greece knows something like yeah yep right away making kind assptions information given thinking kay trendy probably means something basic something standard wondering right away selling twenty five euros sort thi gonna like premi product kinda thing uh huh yep yeah would say yeah yeah yeah background information like compares yeah yeah interesting thing discussing production remote control point think remote controls somethin something people consciously assess purchasing habits like getting shoelaces shoes something comes along know mean like sort like mean one one way looking would well people producing television sets maybe buy remote controls another way maybe people sets really fed remote control really want better one something right right okay right function one priorities might combine many uses think yeah yeah yeah well like maybe could use sort like example successful piece technology palm palm pilots gone like little sort scribble boards cameras three players telephones everything agenda like wonder might add something new remote control market lighting house yeah yeah yeah like personally home combined audio video television set player player work actually function together different remote controls sort ironic know sound everything one system one got little part yeah yeah really good id yep uh sure remember first remote control family cable actually cable big like buttons sort like like blender something know think better actually still kind dunno like massive junky thing table maybe could think could know streamlined something like yeah whatever would technologically reasonable could could could could functionally make better appeal know days pe things people homes becoming like chic know nicer materials might worth exploring anyway okay wrap make sure page given sort example coffee machine something right well right assption television remote control may features go beyond television keeping sort like design coitment television features know yep yeah sure okay okay yeah okay okay okay alright',\n",
       " 'yeah nope set clunky one one left right okay add later guess presentation function eight function blue button next control left yeah push together yep nope try wait yep go increase cannot see much better go bouncing top installing new remote control something people think mid range high end market terms people twenty five euros remote much lo locally pounds lot money buy extra remote replacement remote right maybe high end range maybe middle middle ish kind know much dunno guess pay ten ten quid remote like simple replacement right mean lost remote first thing wanna go get would much would pay yeah yep think twenty five thirty five fair add group well half group people willing least try use technology yeah think perhaps age group significant well people use computer familiar computers everyday work think people maybe would say thirty five people forty ish would dependent reliant computer mobile phone something like people gadgety right people growing used know schools universities go working lives people would know regular yeah yeah think one thing try avoid say use speech recognition right based go everybody saying right want something simple want basic stuff want something easy use speech recognition might simplest thing somebody use saying trying lock particular kind technology rather focusing exactly features gonna say know say speech recognition good speech recognition good maybe suggest think speech recognition anyway something used fulfil function end day look technology look function first okay sure sorry mind passing notepad thanks cool okay well working design well would go guess try define like try define trying get done think practical way kind know used familiar cannot narrowed exactly things trying fulfil like besides basics think back back minds know basics change channels change vole like specifics right one basics trying target certain parts basics important less important basics idea get everybody usually design basic know things start everything going guess everybody idea think need okay finding things little bit confusing go diagram first explains process goes basic technology point view basic steps need diagram slide probably works better okay need power source kay battery something keep going power source important ties long device last ties perhaps bit later terms technologies far transmit signal complexity functions want like example voice recognition right might constrained might need power microphone might need power things one perhaps constraint th okay basic thing user interface people punch button talk smile blink eyes whatever know picks input user uh logic series logic decide user telling device device know based push button something button maybe button power button okay needs able send signal device receiver think terms design fairly general guess purpose also restrict way thinking like voice recognition right something important add power rather thing enough power really constraint sense mean functionally know base technology guess rest think maybe wanna go back functions think relevant discussion yeah done less yeah ps oh putting rest words essentially thing transmitter input device logic chip know stuff like guess would yep technology options sense basic principles basic components needed example needed needed add uh voice recognition right user interface would split broken components right microphone stuff like uh yep yep component represents one function think basic functions logic transmitter receiver okay power things care things based user interface requires add functionality might one consideration would transmission remote control example okay gonna restrict using traditional technologies infra red thing something need actually physically pointing right yep might one problem transmission particular right since talking voice recognition somebody gonna talk device ideally want hold may require know something natural guess know hold signal user push button maybe start talking need send signal using infra red line sight say chair standing front transmitter blocks sense really restriction something may think later process much much specific specific information think one indication infra red mean targeting traditional devices infra red something everybody okay component point view added complexity add cost probably fact need another physical component need docking cradle example put charge need get user plug users use already used idea buying batteries putting controller unless controller gonna conse lot batteries like gonna run like twenty batteries month think rechargeable something know really need care okay think another thing saying categorising controls maybe could suggest break three simple categories one would audio controls one would video controls one would device may map well advanced functionality especially think manufacturer point view person designing device think point view person using device know something see something hear something things like turn turn mean like could like three buckets right could throw things like want feature let us throw decide whether basic non basic mean might help visualisation would actually help component build well really things like anything see mean terms picture entertainment value know channel also goes know like like power sound video although turn video might wanna know turn sound say wanna pick phone mute button right choice putting others device device basically anything cannot categorise right put yeah anything hear right put audio video anything see yep yep yep like random place put need somewhere even even map clearly happens people least mind easy use think one thing guess component point view easy build well things like fixed alright okay sorry okay everybody set start meeting okay got half hour one uh discuss functional design ready go okay hopefully working away put minutes last meeting project folder guess recap uh last time kind uh got know little bit uh got familiar equipment started discuss bit project know cost wise much much money want tell three new requirements first one uh company decided teletext outdated uh popular internet nobody uses teletext much anymore really need consider functionality remote control also suggested use remote control control television anything else think worry project becomes complex affect long takes us get production time market gonna keep simple control thing company want corporate colour slogan implemented new design entirely sure corporate colour might yellow seems lot yellow everywhere well thing sure uh th company website uh say uh something yeah mean something want actually written quite long yeah idea sure something discuss well three things worry teletext uh control uh incorporate uh colour slogan company everybody okay want recap right time presentations would like go first okay cool oh yeah course yeah go ahead okay alright oop well chat away uh five minutes think couple minutes anyway shall sh well stick kind area yeah looks kind yeah well think valid point mean like one left looks quite quite complicated thing incredibly confusing see see yo know might prefer simpler design yeah want lose know maybe know know get lot remote controls kind flip thing open think good idea think good idea uh huh uh huh actual nbers channels well yeah god wou would say required mean way anybody gonna buy remote control days cannot actually individually select channels mean would anybody disagree else uh need worry teletext need worry uh kind like display controls think need worry know like brightness contrast yeah think maybe kind thinking absolutely would nice okay right well wanna maybe point decide absolutely must function far recap got vole channel control right okay yeah oka okay uh well wrap quickly little section lost oh uh think maybe kind uh essential requirements maybe things would nice could would things like audio set display set things like maybe like mute button sort thing anything add okay right okay move next presentation please wanna probably actually yeah bit complicated would nice everything wireless would right oh like overlap said oh well know happen hard know role ends yeah okay uh pr yeah press function eight yeah yeah wanna oh oh go go okay right right okay yeah repetitive strain injury okay want something looks good easy use big priorities okay wanna group different kind types functions together know think good idea okay okay right well one things decide end meeting gonna target audience target market want something looks good easy use fairly powerful product whatever really want aim mean yeah wou would money spend well like twenty five euro selling price imagine well really sure much retail want somebody gonna use remote comes telly suppose gonna actually go buy one think aiming sixteen seventeen pounds think yeah okay okay okay yeah yeah yeah okay okay yeah think aiming fairly young market yeah okay think uh voice recognition something really seriously consider think craig yeah think gonna narrow say let us target people give want know needs kind selling point anybody anything add kind young professionals uh th like going include speech recognition kind fifteen thirty five seems like really high response could say target yeah okay fifteen thirty five look fairly young know bit expendable income spend sort thing yeah yeah yeah yeah sh shy away something quite high tech good point okay shall make decision uh include speech recognition okay okay activate deactivate yeah okay okay uh huh okay uh okay well wanna give us presentation know might good idea deliver presentations discuss yeah exactly yeah oh something occurred well make speech reco incorporate speech recognition appealing people maybe physical disability well yeah yeah really think maybe need like advances kind area worthwhile incorporating though course go right uh huh okay okay uh well wan wanna finish whole presentation done okay okay right okay oh show kind modularising whole thing okay yeah okay okay okay okay well well worry expressed new requirements made complex would would effect long long took us get market th suspect might good idea restrict kind creative influence user interface worry much uh transmit mean tried tested intra red could stay tha oh yeah yeah okay yeah okay okay yeah well well new requirement spec said focus think something wondering power worth considering like like charging unit opposed regular batteries mean something really want go think consider running regular batteries uh huh uh huh yeah okay okay yeah yeah okay stick regular okay right basically gonna recap uh said start whole point meeting absolutely finalise gonna aim exactly product gonna recap happy idea aiming product fifteen thirty five bracket also funct actual functions gonna wanna recap craig okay right okay yeah optional functions okay yeah okay right okay well gotta kind got five minutes wrap next thing lunch whoohoo gonna thirty minutes working next stage putting minutes uh meeting project docents folder uh guess confirm know next well thirty minutes lunch anyway uh industrial designer gonna thinking components concept user interface designer gonna thinking user interface marketing gonna thinking trend watching get specific instructions well dunno ask got anything else thought talking wanna start david anything else say okay andrew yeah yeah think definitely good idea uh huh yeah yeah okay yeah okay okay okay gonna audio gonna like know bass settings actual vole hi okay okay visual okay brightness contrast things like actual device things like channel watching turning stuff like okay yeah okay okay okay yeah guess things think know like fact gotta look good know targeting something maybe kind quirky design maybe make kind ergonomic kind hold know things like guess guess meeting whoohoo go first alright st steal back laptop uh technical functions design right design look online look homepage given us insp inspiration previous products look previous products see offer would like ask guys ideas design end meeting unfortunately allowed talk outside meeting room look existing products found tends come sort two extremes either complicated one got lots buttons lots colours confusing know case labelling tends bad example show end sh show uh button one prog sorry one perg one prog really tell sure look control example simple one got basic functions size hard use one uh looked bit clunky big much use buttons hard access advanced functions nothing instance slow motion button preferences prefer clunky one easy use unfortunately lack advanced functions quite like controls believe advanced functions maybe hidden drawer something like tha bottom would like ask preferences sure long got uh clunky one one right think supposed size got much fewer buttons know spread kind know get idea would sort size got buttons functions would want mean far got switch channel put vole basics could use okay say required one requested one would like channels like nbers thing yeah uh start sort bit need find exactly add things possible vole channel skip certain channels nbers want switch places switch think maybe wire back might loose well say adults going voice recognition sort older group uh yeah reckon one problem speech recognition actually seen one used uh technology one particularly amazing end yelling control hours channel think would probably quite expensive put think say gonna basic stuff possible channels vole uh skip channel ta think include mute apart think go simpleness yeah three buckets would go device functions one could plug okay thanks okay kay okay slogan like actual written slogan embody idea slogan bout putting fashion electronics sure right yeah like lot lot read prepared meeting fits really closely craig gone part could could give personal preferences could also th add sort sort market research anyway might come later clunky sense like heavier larger see basic right okay yeah yeah sure nbers yeah yeah yeah well think think es essentially right categorising saying well want product offers sort tricky features want another area right kind like sorting actually eliminating things want product yeah yep well one one way would look would approach different controls terms like control types user clear want go uh also think maybe little bit sorta would wanna acc easily accessible example audio controls could something people set rarely maybe un little area covered things like channel vole used time right top sort self explanatory maybe need think three groupings controls know like one habitual ones right within natural grip others uh also available others concealed something like yeah yeah sure pl reach plug come across pick move er go behind kinda knot okay say already dunno whether good bad lot kind uh redundancy issues uh things yeah yeah necessarily bad thing may already started cr created slide presentation kind think well culative effect taken ideas mine certainly hard time separating separating things completely obviously obviously told told impacts lot like market research get okay okay alright eight oh eight okay okay think uh okay okay great okay bring say done tried collect information relay guys becomes collective thing kind lead us direction deciding kay options decide know mean okay okay alright would okay make sense basically got looked information sort th tried think could review could kind decisions could take away maybe end looking things think priorities certainly lots different information go thinking uh primarily customer needs start customer know want issues existing products uh think trends also try connect see company vision fashion electronics say uh would like prioritise design features dunno okay found lot new read together users dislike look feel current remote controls find ugly people find ugly vast majority would spend money look fancy well see later vast majority would spend money slightly intuitive control voice recognition okay gonna look second people use slim portion controls guess looking people want technology tend use simple controls overall find remote controls something really appeal think trying take like sorta like three different different inspirations know one want uh something high tech want seem easy spite primitive side high tech side want appealing piece equipment people hands frustrations get lost lot came last meeting takes time learn use uh mention craig uh showing us ideas actually try group controls look like big panel kinda like look know new computer keyboard something quite explanatory want audio want visual admit know stands uh come another sort review main things also found people would uh adults least would pay voice recognition apparently access tech cutting edge technology remote control dunno possible might consider getting sort move sort thin start thinking wanna sell market think recurring theme company wants wants us make something fashionable sleek trendy people uh additionally liking appearance products wanna think take sort techie features put unit people like know like aesthetics ergonomics yeah yeah know looking craig craig uh ideas sorta tell maybe wanna try separate different things wanna include say well want technology try make almost like optional technology know like like find lot days something really like em wanna turn em little panels click like tons features go yeah yeah sort hope putting information say okay well collectively move brought one specific marketing idea although sense try think current trends materials shapes styles use let confine us technologically alright coents uh yeah okay money maybe yeah watches yeah yeah kinda touches coents david age groups information table people would pay certain feature gives us rough idea spend money equipment mostly focused around twenty five age group sort young professional kind uh yeah yep fit market sort identifying terms okay yeah sure sure yeah yeah yeah yeah yeah yeah yeah sure yeah yeah right could thing like want yeah yeah yeah sure sure yeah sure yeah sure yep yep yeah good well good get ideas fresh mind yeah losing also helps terms people losing know saying oh lose couch like kind sort getting mating different uh design features together right oh really seen one right okay kay sure sure yep right like means since topic technology uh like options alright way go thin right basic principle kay right okay okay okay right right right right okay clarification finish uh controller option standard uh frequency equipment one controller control several pieces equipment okay okay okay yeah okay okay yeah good going include uh advanced features gonna eliminate okay option still include things sort like sort door would bit worried someone previously developed habits expecting control surround sound controller know get dunno would problem yeah okay okay yeah right yeah kay okay like okay okay great yeah wanted ask wrap shall agree sake sort clarity rese use idea david proposed think three sort buckets anything anything discuss sort okay talking shall okay great channel right colour yeah sure sure okay suppose quite likely would happen device category might like habitual standard others maybe bit yeah sure okay okay okay great get go find picked lunch us',\n",
       " 'decide fulfil stuff sense kind make sense yeah yep yep yep yep yep probably sending yeah yep play doh yellow cool kay oops yeah okay let get going first ah kay okay guess thing started something basic guys idea involved process work either modify start scratch depending needs components exactly think like guys said input needed basically user interface rest components impact terms cost complexity like said time market problem many components physically cost power basically factor lower components power logic transmitter infrared affect terms size device would inte impact think hold rather actual use using remote control like said defined like want basic things visible rest try hide know matter working space guess three things cost complexity size three things impact go components options available sure voice thing got another email fact quite sketchy voice options said could talk never said anything able listen said something sensor never clarified maybe well could see email sent got back like different requirements different offerings components availa okay basic components buttons okay wheel available like mouse scroll wheel okay display think quite standard things well sense options available explain complexity cost thing bit later okay case actually looks actually flat curved different types materials use think use combination could check back think actually use combination think plastic rubber would fine plastic rubber wood sure titani restrictions using rubber titani rubber restriction kind power source could use titani different kind things shape thing think restriction think could probably group plastic rubber together wood titani know might easier cost perspective complexity use one know opposed two components logic chips go back component chips com complex easy logic depends many functions unit impacts cost think logic chip issue size size power consption think main impact complexity thing power options first one standard battery okay second one think giick actually useable thing wind know crank yeah might something think look feel decision think one power source using alternative power sources think whatever still need battery think anybody wants keep one thing okay ones solar powered cell may great idea europe country seasons half year would dead like said probably need like battery something else kinetic one guess interesting one movement people like fiddle nice sales giick think marketing giick technology thing shake work shake knock something know know balls know stress balls bounce ball lights goes know might giick combined rubber know get frustrated wi remote control throw kind know uh know okay role think personal preferences role preferences think something comfortable hold small slim guess sense small slim terms comfortable small know like phone something small phone thing production point view less components use simpler components means reduce cost increase profit also time market complexity developing designing debugging okay let go back talk restrictions user interface restrictions basically means use complicated features like buttons standard okay panel scroll wheel need complicated logic case okay rubber case cannot solar panels okay titani case let check titani case cannot curved square okay restriction plastic cannot curved wood think use combination especially titani suspect fixed particular need mixing may good idea yep think could panel requires power form light thinking thinking light sense light light light sense glows kind know frankenstein alive okay okay okay think option kinetic thing basically means long shake like watch like automatic watch probably sensitive enough fiddle could trigger light like said bouncing ball thing could trigger use power light opposed pick right sorta triggers glowingness think made particular shape interested like marketing research need long need square thing wha yeah help narrow choice like fruit thinking fruits head tacky need display functionality yeah question using would would achieve putting lights cheap putting panel make glow bit think problem input device get listings bit nuts get monday tuesday wednesday know saying need display would tell user tends output uh opposed input remote control need talk back user option speaker well sa thing goes speaker need remote control talk back could put game dies play remote control would physically position buttons think impact many things maybe wanna draw onto yep like said hybrid kind thing gonna charge battery yeah yep yes yes even clear case know glowing glowing yellow type case yellow showable dark sort alive slight subtle way yeah yeah yeah might light running like mouse know cordless mice eat much power right power battery sense maybe one two stratig strategically placed lights sort yeah case transparent gives little bit glow make freaky question rolling wanna roll want em roll like want em roll like mouse hand position roll whereas thing jog dial way tends get moved accidentally unnatural motion yeah imagine scroll lot might work vole maybe brightness controls stuff like channels right telewest box got like buy channels fifty channels imagine trying think know quick slow kin confusing dunno users tend tend want use lose user experience like becomes accessible thing front yeah wanna expand shape might one problem terms terms whether left handed right handed might locking could could jp suggest something quickly think one thing would jog dial gonna quite big impact thing yeah thinking slide put hand think incorporating logo quite straight forward lots space yeah also marketing function yeah feel like fruit fruits kids like yeah yeah yeah yeah kinda like yeah play doh time got choose first kidding okay swipe power cable think matters okay lee okay gonna pull everybody first put whoever needs left argh real hassle oops gonna take microphones lazy take cool okay okay well okay okay ready go well meeting recap minutes last meeting uh decided decided target group fifteen thirty five decided gonna non rechargeable battery powered gonna group audio visual functions categories told guys three new requirements ignoring teletext ignoring everything except trying incorporate uh corporate colour slogan last meeting anything forgotten anything everything okay three presentations anything kind know gonna want discuss maybe make note discussion end might better idea time start uh andrew craig david alright make decisions stuff right wanna take screwed quite tightly uh uh leave speech recognition say gonna try maybe incorporate made definite decision right oh also point know kind final objective meeting reach decision concepts product kind end result hopefully uh huh hopefully appear wee second go oh oh right go okay aye fair point definitely okay aye right uh huh okay okay okay true yeah kay great okay yeah ah okay great uh huh okay great thank uh craig wanna uh plug quite oh something coming yeah go okay think yellow like website yellow band bottom yellow yellow lemon know definitely food thought keep going discuss kay aye good idea yeah yeah okay okay yeah good uh david know would handy would wanna sit line sight yeah could like plastic rubber yeah kay okay clear one things moving yeah yeah uh yeah yeah see yeah know mean yeah okay okay right okay right yeah well yeah quite keen get discussion going time left yeah ask away kind light want thinking uh huh yeah yeah yeah yeah like phone yeah like backlight phone okay cool yeah okay okay right okay well let us go right back marketing ideas start giving id idea time got fifteen minutes play yeah bear mind ultimate goal meeting reach decision concepts product back idea incorporating idea like fruit veg corporate colour things like mean everybody think anybody ideas fit together mean kind user interface type thing thoughts maybe thinking something like could sit hand comfortably th would hold onto comfortably something quite curvy okay right okay colour wise mean made uh uh cannot remember made point nice bright colour lose whose bright colour lose much corporate colour yellow mean maybe could think colour whole product yellow know obviously uh materials anybody got like overall picture mind might work okay right oh know like circular shape choice material yeah kinda thinking well know get shock resistant mobile phones plastic also like rubber outside kinda feels feels kind warmer touch feels bit comfortable maybe could incorporate plastic rubber could curved shapes wood titani yeah gonna boxy rectangular think might moving away know well really want like shape lemon think either okay right well thoughts actual shape thing snowman shape uh huh quite distinctive shape would good would yeah yeah go wanna draw board ooh would good call snowman shape trademark yeah cool mean colour wise everybody think think quite important get yellow somewhere mean want whole thing yellow maybe like yellow white want something uh huh okay cool also mean going incorporate slogan fact talks mean might quite cool first start using says putting fashion electronics something dunno like turn something speak could actually say slogan might bit powerful written somewhere thoughts know unless mean also would work wanted incorporate display would put would put inside bound increase cost lot would thought yeah oh yeah true yeah need display think would make complex yeah yeah know really would say need talk back uh anybody disagree easy okay right gonna three different sets functionalities mean wanna group head snowman body snowman inside snowman thinking okay okay right else need talk gonna pop slide decision making would forgotten oh sh god got five minutes okay uh back go energy think suggesting powering thing really like idea kinetic thing would back battery kinetic power mean anybody think okay yeah yeah well suppose away using using power either would battery kind keep ticking idea really sorry gonna wrap quite quickly much time thought think energy referring chip print industrial design thing david okay case kind discussed yeah know gonna like rubber buttons feel kind okay kay could things like backlighting buttons stuff like aye would good idea like cur slightly transparent case yellow like tinted yellow maybe see mean okay lights okay yeah yeah holding hand could could could holding hand could think okay yeah okay okay yeah okay okay okay right well would need make decision whether want incorporate jog dial nice quickly actually think quite know th quick use anybody oppose idea incorporating one design thing think way getting slogan thing uh huh uh huh ooh okay really gotta wrap yeah okay well great yeah okay yeah let us let us try get slogan okay right gonna really gonna hurry actually time anything anybody unsure closing next meeting gonna thirty minutes see screen gonna hopefully uh know designers gonna working play doh good get minutes soon possible anything think discussed need everybody kind happy gonna okay kind design thing guys discuss yeah okay yeah make something flush case okay right okay sp kinda grippy okay okay gonna gonna call close way time really good like much talk pretty much run time go design stuff wooh yeah quite jealous actually working think concept research look homepage provided examples previously existing remote controls wee bit discussion existing ones taken suggestions tried incorporate looking suggestions size th size control buttons shape control whereabout buttons located control found research current controls basically big bricks loads buttons attractive look comfortable hold hold em like big bricks easily lost tend dark colours shadowy places side couches cannot really see controls tend use inconsistent colour scheme instance stand button always red uh really uh something user uh identify red switch sure examples something look problem got couple preferences end control get em red colour button stand examples buttons large tiny little things like get mobile phones easy press comfortable one examples given homepage vole button vole button looks like vole button kinda confusing avoid things like corporate colour scheme allows bright colour easily identified anywhere obviously trying trying avoid tacky could tie easily lime lemon idea fantastic extra features add beyond basic ones hidden visible without something opened sort special extra effort decide go voice activation sh always button alternative possibly hidden opened section making something wrong somebody voice maybe got cold definitely avoid big square block look wrong got email uh think research department said th voice control talk back ask question sh could good confirm action take possibility right problems know slogan go really slogan think fashion electronics know flexible colour scheme mean say wanted corporate colours say know use colours think cool right right think could go like maybe fruit shape sort curvy type shape could sort texture colour fruit probably something sits hand comfortably sort feels right hand see would quite like sort uh snowman type shape sort larger bit sits hand got maybe another bubble top function need something like got two groups maybe could fold get third group inside uh vole controls reckon would look quite nice sorta background yellow sort nice bold colour buttons think might scare think would probably scare turn control possessed nah well think advanced ones ones usually use could hid inside think fairly basic ones would go front somewhere yeah think yeah well skipping large amount channels uh skip channel button nber part uh yeah yeah yeah sure kinda make sense get end meeting kind talking action design opposed background everything kinda background uh sounds sure okay sure yeah cool get okay okay alright function eight come think working okay great let start okay great uh move uh huh oh go good okay lee see find looks like think opened template sorry okay alright let us look okay method taken uh basically wanna get uh far want show background information think need acknowledge want successful uh sorta go way dealt information sort bring us together see sorta see fits overall vision tried take whole lot market research smarise us ide identify uh trends sort sync important uh project plan far uh initiate kind discussion design options sorta helps us narrow aspects inform uh elements project make sense tha sort strategy thought impact rest suggested get okay different uh figures ratings ob uh people general consers general nber one thing found uh br television remote control fancy look feel okay specified functional look feel uh fancy however kinda think creative nber two innovative okay tells find way innovative without adding unnecessary sort functional bits uh third priority uh ease use kind gives us general picture quite user friendly still technology say right away bit foreshadowing proceed terms marketing think think innovation uh contributes look feel much functionality example like pick push like lights something know mean like got something else seems innovative obviously thing message ease use make innovation make something easy use well guess gonna go okay aspect back market research fashion style okay agreed priority uh top european fashion trend read says emerging theme fruit vegetables okay especially clothes furniture first saw thought well want actually try think trend add something get right completely steer away know mean feeling want observe trend want think also fact sort fit something specifically electronics think partly sort home decor partly something like computer think might wanna careful know quickly create like remote control shape apple something think would pushing terms material trends things soft spongy sort might say ergonomic friendly handle also indicated last year case probably lot competition market still last year mode try really capitalise think favour smary everything style nber one uh thing market selling uh innovative design technology also must seen would seen uh cutting edge uh ease use insured throughout like nber three thing end vibrant natural colours way interpreted anyway softness materials shape function written written bottom give us sort context discussion mac ipods something would say high tech ten gigabytes whatever hold hand like buttons know mac ipod thinking however mac ipod sort last year hard sort glassy glossy thinking imagine taking features mac ipod making like like comfortable type like maybe vibrant friendly thing information suggesting slide take ideas get techni like sort production side things think shape materials themes series go throughout sort like dunno like think kind thin theme unifies agree uh sorta like marketing identity make sense yeah like threw ideas kinda get us thinking along lines like lemon lime dunno green colours pe whatever idea thinking ideas seem quite coherent use terms people associate terms texture shape colours things like like ones ones fond terms giving like theme would like like lemon something like know something like see lot areas like see lots websites things seem associate like lemon lime anyway idea thinking maybe could incorporate features fairly something seems something almost giicky like like something like lighting within like know within simple sense pick phone touch button uh lights usually buttons light build maybe like could light different colours something people could buy buy control comes different like covers something anyway uh hopefully revisit ideas get yep press eight yeah okay corporate colour scheme know okay okay okay yeah great lots good information shame cable middle table huh takes second standard yeah yeah yeah cannot curved okay uh question ask question okay uh power light get strong enough battery power light okay maybe one things try include really good battery well mean thinking might uh high tech thing gonna something high tech gonna take battery power make make realistic goal think one issues come later battery power illinate buttons yeah glows well thinking along lines dark watching find thing dark go like everybody oh vole button dark uh touch pick lights something like phone yeah yeah whereas phones people charge week gonna need put really good battery people charge remote control every days people gonna wanna shake movie controller right sure okay right okay great okay okay yeah yeah yeah okay well mean thinking need something kind unifies lot different concepts think nber one marketing motive look feel look feel seem coherent sorta bits bits pieces concept technology whatever fashion kind come back one thing kind sorta visualize maybe could th think concept touches back colour said company colour yellow mean think something like saying also lime lemon know come something try associate like series come something like kind use theme inspire shapes things yeah yeah think like trying achieve one one sorta theme stick know mean right sure yeah yeah like wha like like yeah visualize okay okay yep would achieve well well would used mention would think wonder would th thing could see helping would somehow connected listings scroll said might jog dial scroll stations actually tells right okay real well yeah yeah yeah sure kinetic things one issue need keep mind coitting user moving watches yeah sure okay right okay support mean worth pointing like known known people kinetic watches wear time like magic always powered battery also known people things like like jewellery watch wear time time eventually say much nuisance wear time like remote control similar away vacation dunno whatever something starts get worn think yeah yep size would suggest small like quite small lot mean one things running mind right realise efficient wrap meeting lots decisions made leaning quite bit side low tech rubber buttons plastic frame almost like reproducing old remote control think actually getting high tech user friendly uh theme like using achieve goals like okay backlighting would good yeah clear would okay yeah sure yeah would really good yeah sure yeah yeah yeah sure yeah emanate light kay yeah thing coitted achieving simplicity thinking maybe try think something like kind innovative concept vole channels controlled main thing people wanna could use like jog dial like nice sort round somewhere roll yeah well like mouse yeah yeah yeah sure yeah bad thing think alternative go push button jog dials much easier roll yeah yeah yeah like mean keep coming back board would surprised could take idea imagine dunno within shape hand quite small dunno yeah small got like slogan somewhere like casing side yeah well mean said said decide yeah like jo like jog dial somewhere fits shape like dunno like would get bped really fit hand yeah maybe fit like middle jog di yeah kind yeah yeah huh yeah think jog dial know drew flat spun would great yeah yep sure yeah yeah materials sorta said would plastic rubber think maybe try stay away big protruding rubber buttons would standard something bit flush yeah maybe rubber incorporated case well also plastic seen get really textured get plastics actually feel soft hand feel kind like get pens would think rubber actually plastic textured kind little bit like okay okay',\n",
       " 'ninja homer made japan uh open advanced functions advanced functions still hidden hidden sense use panel jog dial okay panel displays functionally using advanced function right like brightness contrast whatever say know like four colns simple like whereas many minim amount need user automatically know like brightness contrast might even one bit complex panel pictures like maybe sun know symbols various functions nber pad al along yeah space thing side well bottom slogans usually quite small right like huge say button say button size right would still plenty space slogan say even yep would centimetre button one two three four centimetres plus maybe half five six seven eight yeah nine total nine ten yep excuse sure oh discussed high wide height width need five think five th three half yeah yeah okay things like brightness contrast maybe tuning channels else various inputs know input yep colour sharpness lot things free open users define audio like basic base mid range high range yep left right balance maybe even pre prograed sound modes like user could determine like series sound modes could happen would click would go setting yeah battery need yep yeah advanced chip need advanced chip think yep let confirm yes think yep yeah yep plastic think gonna skip rubber yep case one colour one special colour case unit rest components go top yes one display many got push buttons well okay let us safe put like say four buttons one okay maybe special colour buttons maybe four one button complexity twelve buttons estimating yeah would less yep yep much would save us save one thing could could take away panel advanced chip together something responds reacts well user could looking pushing thing may need scroll need way get respond think technically doable thing yep advanced chip goes away well regular chip yep means twelve buttons see functionally gonna intercept four good estimate yeah cannot actually cut like three times nber buttons four eight twelve needs one big button open phone underneath actually one button underneath panel single panel report budget colours could take away colours th buttons normal coloured buttons button talking buttons refer pad take uh hey back original become normal coloured buttons might way cutting cost yeah mean profile enough play doh make three one dimension thing need add might want add report length width height yeah yeah two two slightly two okay think something hard catch restrict nber people wanna try something look colour something cool think also factor unfamiliar put shelf yeah button shape might good idea change rather rather positioning think positioning kinda engrained telephone kind pad maybe design evaluation first think need power okay okay power cord yeah bit freedom still blue fingers killed monster rate pretty highly yep fine one seven right wait scale one seven right okay upside say medi going towards little bit higher medi kind thing yep lemon okay blue blue colours actually represent colour except red button want yeah yellow representative colour button blue anything else yep fine yeah company logo think cost prohibitive yeah yep cameras yep keeps getting big kay listening trying incorporate logo thing playing play doh well case wondering still playing play doh right lego feel like caged within whatever like balloon cage go big hit side constraints come fast yeah think another point meetings brainstorming sessions meetings time also strong factor structure brainstorming meeting want structure allows allows ideas get tossed evaluated reviewed get feedback come back guess point room friendly think big thing think fact wearing things restricts feel wear glasses right irritates right actually know affect whether feel comfortable counicate feel like hiding behind equipment rather equipment helping know much atmosphere atmosphere relaxed gear yeah know creates boundaries time time given also restricts excuse think controlling right word think interactions structured think structure probably saying individual structured one particular task one parti rather controlling think sense control decisions made terms like consensus right go around think know process actually says certain way tell know ways might wanna bit creative terms process know think tried use coon share folder counicate comes back us slow email know messenger go yeah okay think tools given tool set given us fancy support collaboration think word support team working together know still individual tools play doh fun really think focus lot powerpoint opposed whiteboard think also know hinder us things think cooler whiteboard rather powerpoint maybe whiteboard powerpoint place know centre think many powerpoints meetings plug plugging spent spent lot time lot information powerpoints think know needed actually could could gone verbally especially slides felt know opposed present yep clunky agreed tick go bit hindering well half way thought run paper jp think pen intuitive everybody knows use worry think pen good best thing yeah needed one computer computer may conducive meeting tend look computer wanna urge check something know useful think many computers distracting yep ninja homer ninja homer see looks like homer simpson electronic made japan yeah logo ninja homer red supposed represent whatever else wanna print side wear homer throw homer frustrated doh clunky oh learn something new play doh useful useful conceptualizing creative like say something put hands feel touch get sense like playing play doh ideas came play doh rather everything else might wanna write fiddling play doh going yeah yeah kinda cool play doh edible wheat stuff mom could make preservatives uh helpful creative process engages senses sight sense feel sense touch helps understand dimension well think helpful starts pop whereas piece paper computer board even three graphic thing still requires lot yeah tangible nice word becomes tangible nope think could probably long collaborate turn microphones okay set right well uh final detailed design meeting gonna discuss look feel design user interface design gonna evaluate product end result meeting decision details remote control like absolute final decision gonna specify final design final report last time recap said gonna snowman shaped remote control display need talk back hopefully gonna kinetic power battery uh rubber buttons maybe backlighting buttons internal shine casing hopefully jog dial incorporating slogan somewhere well anything missed okay uh want present prototype go ahead okay kind thing uh gonna okay cool oh right okay cool gonna slogan okay cool okay okay scale kind dimensions thinking six seven eight nine ten talking ten centimetres would good ten centimetres height okay yeah great bright well okay okay could list things write report okay okay like okay button right okay oh oh like depth actual thing oh get idea scale thing okay power else okay okay jog dial vole else jog dial contrast brightness yeah anything else well designers uh huh okay channel tuning good one okay auxiliary inputs sharpness okay uh sound settings uh change okay okay anything else fine need know write okay right guess little look excel sheet price listing see need need rethink anything first part power wise got battery kinetic well okay battery cost restraints okay electronics advanced chip okay case mean single double know want double curved okay rubber buttons okay wanted special colours put oh wait ho many colours got one colour okay okay interface wise third option two okay buttons two colours like uh oh wait push button integrated scroll wheel push okay uh huh okay okay four arriving nber four nber four come okay right writing four okay wanting everything gonna plastic okay quite far gonna something gonna go sixteen point eight well something go tune two point three euro let see mean oh yes sorry four point three maths yeah much would save us one okay reviewed suggestion take away display replaced regular chip okay got point three get rid ha four four push buttons exactly twelve buttons yeah think like one big button twelve buttons something okay well point three get rid somewhere well want colour differentiation oh yeah sorry yeah right ah okay ach shame right take away completely ah budget point five euro play wanted say yeah good idea one mean one button special form yeah okay well well go gonna redraw gonna anymore gonna show think fair enough gonna one big thing right okay well thorough width wise looking three centimetres something okay height wise tall envisage big two centimetres okay okay ach yeah okay say two point five okay within cost anyway yeah project evaluation point right uh okay close final spec gonna someone gonna yeah fine fine okay right point uh let see discuss uh satisfied four points room creativity project leadership teamwork stuff around us guess let see uh yeah really sure yeah yeah go first entirely sure uh supposed go okay okay yeah oh kay okay well yeah mean compared remote controls see pretty good dunno like six something anybody else think okay would say five six david okay oh yes sorry would say two three yeah well wee jog dial would go three four maybe three yeah three okay well kind yellow mean could lemon yellow colour could yeah well yeah mean really basic looking mean would give nearly one five really low well yeah suppose kay yep gonna side like something forty nine guess pretty good uh yeah twice thirty one yeah ab well yeah sixty nine seventy percent yeah pretty good okay nobody saw honestly finished uh huh okay right okay great submitting evaluation criteria know instructions okay uh wondering need include minutes submitting anyway okay great cool right uh well next done finance project evaluation oh right okay right okay well wanna individually say think four points four points four points sorry forgotten got different uh oh yeah good yeah right okay yeah uh note alphabetically wanna start andrew know opinion four four points really used yeah uh huh well feel though able quite lot creative input thing think means room room think means like know yeah room oh yeah well dunno th think means think means feel able give creative input okay okay okay uh know actually let us take point everybody discuss think yeah still topic room creativity uh next craig yeah yeah yeah think relaxed atmosphere would kind conducive creative thought yeah actual environment okay okay good leadership know means like good job something really know like personal coach person stuff like think maybe okay uh huh okay think maybe little controlling okay uh huh okay okay uh teamwork yeah okay uh guys get email sent oh alright wondering got okay okay smarize teamwork issue saying could counicate outside meeting know like quick questions quick thoughts whatever probably would bit easier oh right okay yeah yeah okay okay right uh anything else say teamwork okay know used whiteboard digital pens projector stuff like anybody think anything like really useful anything pretty un unsupportive yeah point yeah yeah ah think producing prototype earlier process woulda good idea yeah okay alright okay uh yeah yeah okay digital pens find easy enough use yeah clunky okay yeah know think start today like wrote whole load stuff click note one went back wrote one tiny wee thing another page click note quite worried written top something paper anyway done since yeah yeah yeah yeah true yeah think computers provide distraction meeting okay know like things written front actually like lot stuff emailed ended know like writing something could look really quickly distraction know anybody else else uh wh really sure looking say new ideas found know could think like anything else would helpful today yeah uh yeah dunno think quite good time limits meetings really could run like experience meetings really spend lot time talking thing though like meeting conceptual design thought maybe another fifteen minutes would useful yeah really thi think maybe would like working one room said know like every hour something everybody make sure yo know short meeting like something written like know milestone like rather meetings go closing got five minutes go thin oh five minutes go wonderful okay costs within budget yes project evaluated yes celebrate well apparently write final report guys dunno lovely logo anything logo like ninja homer right okay think quite nice oh cool got kind slightly gutted could get plastic rubber think would nice ah well maybe real reaction give us money play doh really yeah okay play doh yeah smells funny yeah like stuff think yeah yeah wha smarising words play doh okay yeah yeah tangible okay uh know anything else needed discuss really sit still guess little well dunno sure little uh little thing pop minute yeah yeah meeting yeah guess kay ah right great right okay right right kay okay okay nber pad kay great yep looks good yep okay nine total sounds good yeah yep would good fact pen ten centimetres usually would sounds like really good size see possible uh gonna bring idea colours colours production available right high yeah okay sure three half probably colour sharpness audio kay even clear uh going achieve high end product sparse two point three four point three yeah could go embossing logo going cost us money yeah freebie goal prototype design low profile possible sort flat possible yeah yeah thinking sure okay yeah alright yeah fair enough okay thought would ask two high though maybe bit higher yeah maybe closer three even two half probably dunno worth getting want stylish think little bit box terms button grid seen lots devices instead taking standard nine nine square grid sort stylized different concept yeah sure okay yeah alright okay sure button shape square buttons okay yeah sure yeah kay want want design evaluation last evaluation okay sure alright way works gonna need plug powerpoint try quick possible go head okay need powerpoint oh course yeah true let get bit okay set us uh use kind like idea set reviewed points discussion beginning used criteria evaluation uh current design uh th plan uh review uh think gonna end sort elementary sort gonna probably use change anything seem like going yeah okay great uh gonna write results board way us go decide sort review stand okay sort bring together two things sort design goals also market research uh rate one high succeeding fitting original aim seven low okay th asked uh collectively rate try work consensus system come agreement okay first one uh stylish look feel yeah yeah yeah uh reservation basically went yellow company colour know yellow gonna really hit guys think okay okay let us go five fi oh uh actually opposite meant three okay yeah one high kay let us go two point five okay control high tech innovation remove yeah remove features wanted jog dial good okay three okay style reflects fruit inspired colour design said colour sorta yeah okay right yeah could yeah okay okay go two yeah okay design simple use simple features yeah fairly basic guys think yeah one okay soft spongy achieved used mostly plastic end going quite bit compromise price five could used entirely rubber frame option would cost plastic okay logo got huh within budget yep okay say uh possible would goal yeah forty nine zero highest uh two seven eight ten fifteen point five pretty good translates something like approximately seventy two percent efficacy original goal right think turn hundred would thirty one invert oh right seventy yeah seventy percent okay good little formality us go yep oh hundred pound pen sorry alright yeah one one frame thought mean knowing would deal information thought okay theory kind process would refining design revisiting original goals something need push thought thinking dimensions sort like three dimensional shapes well opposed flat could design involve series colours like line like sort know like harvest line vibrant dunno whatever theme different tones lime green lemon discussion mean obviously abandon fine thinking originally set yep think record uh asked submit yet yeah yeah huh yep like printer cables two little butterfly clips like really quick use sure asking sort work setting yeah well uh okay go system room uh fairly institutional main thing think use space report things opposed creative constructive would probably help sort culative effect ideas come back ideas still discussion know words room sort centre point creativity whereas reality gone really centre point creativity debating yeah yeah thing quest terms first point room feels though creativity goes leave come kind put ideas know oh oh right right oh right okay room creativ oh right looked saw okay whiteboard digital pens room course yeah sorry huh yeah yeah th okay th yeah dif answering question uh terms would say actually sort tease creativity asked work actually guidelines fairly contrived terms okay fashion trends say fruit vegetable colour scheme told okay use co company company colours told okay think terms style look feel technology build something twelve half pounds actually creativity like sort formality actual yeah within constraints yeah yeah yeah yeah yep yeah yeah yeah yeah yeah yeah sure yeah new creativity yep right yeah well well mean sense sort kind guidance direction encouragement yeah well think sort acting team leader yeah think think think good mean personal views leadership effective effective leadership sort gives people certain room freedom delegation come back something take great ownership know innovative thought reality think different elements leadership original briefing personal coach know meeting agenda actually quite quite quite con confining framework work within leadership almost point sort disempowering team member bad leadership sort fairly strong know turns turns individual like sort predetermined mechanism opposed sort free yeah oh yeah without without doubt yeah maybe co confining yeah yeah yeah yeah wanna coent craig yeah yeah fully agree yeah yeah yeah got email yeah yeah exactly yeah mean yeah mean sort taking upon idea way see uh structure approached whole task quite contrary principle teamwork tasks sort divided work went isolation know guys together maybe bit different yeah actually imagine entire completely task given us us said okay first thing come let us say design concept sit together well teamwork say okay go talk actually sort predisposes quite contrary teamwork done think best could done dissatisfied think whiteboard kind thing would use time quite useful us could maybe way use sense idea work going meetings could board uh know opposed like text could keep ideas sort building know people design cars know aviation quite often simple like fibreglass prototype completely know abs abstract final product use kind context sort walk around puzzle point discuss way everybody discuss things theoretically notebooks actually us discussing something minds know like one point peeked across looked craig paper like know thinking saw book whiteboard could actually kind continuing think could yeah yeah yeah yeah yeah yeah yeah yeah yeah yeah powerpoint provided us time prepare whereas imagine would encouraged use paintbrush example whatever would actually used ca know sorta set use time yeah quite yeah yeah yeah sure yeah yeah yep yeah topic technology occurred actually need move computers computer files occurred actually needed one computer fifth coulda sitting ready go whole time yeah yeah yeah yep well main one uh process na natural context would interrupted necessity discounicate kind new idea like sort idea well know kind hard keep working forward team team based project told must work away team oh yeah yeah yeah great know call huh huh logo huh fashion technology something yeah yeah huh huh yeah yeah true yeah play dohs actually think edible wow huh yep taste yeah yep yeah yeah retreat continue reporting uh oh changes made well look expense sheet uh turned quite lot expensive open lots buttons stuff inside instead gonna screen basic one small access menu scroll wheel uh confirm button uh apart pretty much discussed last time know like right inside well want buttons big enough push easily finger reckon maybe size palm hand well gonna sort foggy yellow last time lit pushed button button red sort prominent gonna use uh power button hold maybe two seconds send stand signal apart gonna used confirm button screen use jog dial know put five centimetres something skip straight channel using buttons gonna vole control got jog dial thought would use vole use advanced functions like contrast colour yeah whatever else wanted include advanced functions actually go specify uh balance yeah think single would sort one sort oval whereas double sort thing got push buttons well kay reckon got one button thing one big sheet rubber sure counts see far beyond well could take ones making single curved fill bits one fair enough yeah one piece rubber gonna twelve button things underneath yeah reckon reckon probably counts special form buttons think one button handy yeah see envision quite deep sort deep enough comfy hold hands rather wide flat yeah works yeah see thick yeah yeah seeing five one high ish ah okay yeah two three eight three yeah yeah one yeah think five yeah well use uh plastic probably gonna think would probably increase cost got like ten cents left yeah leg agree point quite lot fun go sort hit end go right gotta cut everything enough money uh reckon bit hard could discuss things meeting could go somebody outside meeting quick talk would lot easier yet yeah oh bit clunky good point yeah project oh yeah know ones oh wow hey yeah said ninja homer guess would forgot good play doh smells think non toxic aimed like two year olds yeah tangible',\n",
       " 'uh dave cochrane user interface defin designer yes monkey one uh fact somewhat oblique reference fact uh well three uh three year old daughter affectionately known miss monkey monkeys attitude think good thing mean fr uh point view sort study han evolution primates terribly interesting like monkeys th th th th thi thi one seems perhaps attitude well one thing aware th uh sort high price end market em emerging market sort touch screen remotes uh prograed much sophisticated ways sort conventional models get sort get redesign interface needs prograe macros get much greater degree mean get sort three one five one whatevers get integration different uh diff different things designed control much greater extent one uh know one macro turn uh know turn right channel get uh uh rewind tape get play rewound instance occurs might niche uh remote aimed towards sort functionality using conventional push button design therefore putting well much lower price bracket absolutely prohibitive yeah yeah mean would like say mean get ones switch multiple units something could operate multiple units integrated fashion ideally something would least limited facility running macros instance let us say oh oh know pr uh press uh say play button player turns onto right channel well key feature uh would good idea built make something know fairly sort ergonomic something fits fits comfortably possible hand course uh al al also allows possibility sort slightly unconventional attractive uh sha shape overall curve something sort sort sl slightly sort biomorphic form uh would need sort conform shape hand efficiently anyway okay well think ready begin right name adam duguid real reaction group yeah go mate ebenezer role marketing expert okay next role industrial designer lastly going user interface designer okay right agenda today meeting see opening acquaintance tool training project plan discussion closing already got opening partially acquaintance reason gonna design new remote control probably know broad overview original trendy user friendly course go bit detail uh personally think original gonna key aspect design lot remote controls anyway gonna need something really gonna set apart today seems going work gonna three kay phases probably already told functional architectural detailed design first one gonna covering user requirement spec technical functions working design second seems conceptual components properties materials last one detailed analysis design far course got similar emails believe right say ebenezer wanna wanna draw favourite animal brilliantly done thank tarik would like shot bit artistry oh clip belt also lapel mic well yep across yep yeah follow probably stick pocket would worry much good range excellent thank much dave would like uh dash cheers hardly would call best drawing world also quite feared average tiger uh cats one favourite animals independent snotty hell best times uh say got love qualities animal right think managed master whiteboard looks project finance see twelve point five euros per unit terrible lot far aware hoping sell twenty five aiming fifty million euros gonna selling awful lot yep well fifty million making twelve point five euros one awful lot need sold okay better actually get uh meat project gonna guess used remote controls ideas think new remote control could go market okay okay yeah tha true price range looking going touch screen would probably possibly yeah think uh something control multiple units uh simple fashion would idea something along lines one button would turn say video recorder maybe sound system well one go kind okay sounds like good strong idea takes okay okay yeah heard seen bar code design yeah okay well beginning run time got couple ideas work fast alright see got thirty minutes next meeting try decide basic functionality user interface might work key aspect especially idea kind macros facility program lot response back least kind gonna maybe try figure user wants yes right anybody got anything would like add stage anything think might missed far see almost everybody probably used console incorporate small keypads fact even mobile phones days beginning use well probably interface people used could allow easy navigation used joystick well okay small stylish something little different okay definitely something able quite easily would would hoped anyway right would say finish one get started get write kind quickly done get everybody yeah okay far aware leave microphones unless get told otherwise take laptops us oh ebenezer ademesoye would like spell marketing expert sure whiteboard kay okay make quick since much time kay best picture world elephant first point begins like ebenezer also elephants good memory much like cannot remember back used live back nigeria think used pet elephant elephants big strong gentle great memories begin letter like ebenezer thank oh oh oh think ga little oh good clip okay yeah microphone well somewhere think yeah go oh profiting amount amount made okay yeah oh kay well noticed uh gaming becoming quite popular television younger used play games using cable using cable subscribed cable providers remote controls would get worn really easily remote control great kind keyboar keypad playing games perhaps one specialised game playing interactive television recently brought new remote control people set favourite channels record things instead people entering time things start simply stri slide bar say time begins slide another bar say time ends know yeah taken uh really clever use remote control think gaming know want want big buttons left right shoot uh wanna able change angles interactive television need buttons change television angle camera angles stuff like yeah user wants uh okay oh okay kay tarik rahman industrial designer take oh right okay ah ha put supposed clipped well uh destroying elephant uh tiger uh always loved tigers big biggest cats uh project cats wild kid uh favourite cat looks best stripes orange dad used talk bangladesh used tell kid uh feared uh animals wild uh like say anything really kay well talking gaming stuff think sort stick rather buttons like uh control pads know games bit ridiculous yeah']"
      ]
     },
     "execution_count": 17,
     "metadata": {},
     "output_type": "execute_result"
    }
   ],
   "source": [
    "cleaned_text[:5]"
   ]
  },
  {
   "cell_type": "code",
   "execution_count": 18,
   "metadata": {},
   "outputs": [],
   "source": [
    "#call the function\n",
    "cleaned_summary = []\n",
    "for t in data['abstractive']:\n",
    "    cleaned_summary.append(text_cleaner(t,1))"
   ]
  },
  {
   "cell_type": "code",
   "execution_count": 19,
   "metadata": {},
   "outputs": [
    {
     "data": {
      "text/plain": [
       "['the project manager introduced the upcoming project to the team members and then the team members participated in an exercise in which they drew their favorite animal and discussed what they liked about the animal the project manager talked about the project finances and selling prices the team then discussed various features to consider in making the remote',\n",
       " 'the project manager briefed the team on some new requirements to consider when designing the remote the user interface designer presented two existing products and discussed what was wrong with each product the team discussed how to create remote which did not include the problems present in the existing products presented by the interface specialist the marketing expert presented conser preferences and requirements and the team discussed who their target demographic should be and whether to include speech recognition in their product the industrial designer discussed the interior workings of remote and the team discussed various options for components and energy sources the team then discussed features to include in the remote and what they could do to figure out how to categorize them',\n",
       " 'the project manager recapped the decisions made in the previous meeting the marketing expert discussed his findings from trend watching reports stressing the need for product that has fancy look and feel is technologically innovative is easy to use and incorporates some aspect of fruit and vegetables in its design the interface specialist presented research on the appearance of current remotes concluding that current remotes are generally unappealing in terms of look and usability the interface specialist presented ideas on how to remedy the unappealing aspects of current remotes in the team design and also how to incorporate the corporate color scheme into the design the industrial designer presented options for materials components and batteries and discussed the restrictions involved in using certain materials the team then discussed options for the shape and color scheme of the remote as well as what components batteries and materials to use',\n",
       " 'the project manager recapped the decisions made in the previous meeting and two team members presented their prototype and discussed the features the prototype contained the team then looked at the production costs of the remote and had to decide which features to retain or lose in order to maintain the target cost in maintaining the target cost the team had to lose nber of features which they originally wanted such as kinetic battery an lcd display and various color options the team then evaluated the prototype on the basis of its appearance technological innovation and spongy quality the prototype did fairly well in the evaluation the team then conducted an evaluation of the project process the team felt that their creativity was hindered by the project budget and their inability to discuss the project outside of their meetings and that the structure of the task did not foster teamwork',\n",
       " 'the team members introduced themselves to each other by name and by their roles in the project the project manager introduced the upcoming project to the team and then the team members participated in an exercise in which they drew their favorite animal and discussed why they liked the animal the project manager discussed the project finances and selling prices the team then discussed various features to consider in producing the remote such as gaming options an lcd screen and combining functionality so as to control multiple devices',\n",
       " 'the project manager recapped the events of the previous meeting and briefed the team on some new requirements the team must follow when designing the remote the marketing expert presented research on conser preferences and user requirements for remotes the marketing expert also presented information regarding voice recognition and what demographic finds the feature appealing the user interface designer described the technical functions of remote and stressed the need for user focused design the industrial designer discussed the interior workings of remote the team then discussed the option to include voice recognition lcd and feature to locate misplaced remote the team briefly discussed who they were aiming their product to along with the idea of marketing their product to television manufacturers the team also decided on some features to include in their product',\n",
       " 'the project manager recapped the decisions made in the previous meeting the industrial designer presented options for batteries materials and shapes to use for the case buttons and chips the user interface designer discussed how to create an interface for an ergonomic remote which conforms to the shape and movements of the han hand as well as an option in which users could connect their remotes to computers in order to download program settings the marketing expert discussed findings from trendwatching reports which indicated need for products which look fancy are technologically innovative are easy to use have fruit and vegetable theme and are spongy the team then discussed what materials and components to use the color of the remote and prograing options for the remote',\n",
       " 'the project manager recapped the decisions made in the previous meeting and two team members presented prototype for the remote the team is designing and discussed its ergonomic appearance and its features the marketing expert began to lead the team in conducting an evaluation of the prototype but was interrupted when the project manager shifted the discussion to examining the production costs of the team product the original specifications of the team product proved to be too expensive and so the team had to discuss which features to lose and which to maintain in order to meet the target cost after discussing costs the team returned to conducting their product evaluation the prototype was evaluated on the basis of its ability to be located when misplaced ease of use appearance technological innovativeness and sponginess overall the prototype received average marks the team then evaluated the project process finding that they were happy overall but quite displeased with the small budget',\n",
       " 'the project manager gave an introduction to the goal of the project to create trendy yet user friendly remote she presented long range agenda for the whole project the group introduced themselves to each other and practiced with the meeting room tools by drawing on the board the project manager presented the project budget the projected price point and the projected profit aim for the project then the group began discussion about their own experiences with remote controls to generate initial design ideas for making the product user friendly they discussed grouping features into menu and adding an lcd display they also discussed the look of various materials that may be used in the design in keeping with the company goal to create fashionable electronics',\n",
       " 'the industrial designer gave his presentation on the basic functions of the remote he presented the basic components that remotes share and suggested that smaller batteries be considered in the product design the user interface designer presented his ideas for making the remote easy to use he discussed using simple design and hiding complicated features from the main interface the marketing expert presented the findings from lab study on user requirements for remote control device and discussed users demand for simple interface and advanced technology the project manager presented the new requirements that the remote not include teletext function that it be used only to control television and that it include the company image in its design the group narrowed down their target marketing group to the youth market they discussed the functions the remote will have including video plus capability and rechargeable batteries customer service plan was suggested to make the remote seem more user friendly but it was decided that helpful manuals were more within the budget the group then discussed the shell like shape of the remote and including several different casing options to buyers']"
      ]
     },
     "execution_count": 19,
     "metadata": {},
     "output_type": "execute_result"
    }
   ],
   "source": [
    "cleaned_summary[:10]"
   ]
  },
  {
   "cell_type": "code",
   "execution_count": 20,
   "metadata": {},
   "outputs": [],
   "source": [
    "data['cleaned_text']=cleaned_text\n",
    "data['cleaned_summary']=cleaned_summary"
   ]
  },
  {
   "cell_type": "code",
   "execution_count": 21,
   "metadata": {},
   "outputs": [],
   "source": [
    "# Drop empty rows\n",
    "data.replace('', np.nan, inplace=True)\n",
    "data.dropna(axis=0,inplace=True)"
   ]
  },
  {
   "cell_type": "code",
   "execution_count": 22,
   "metadata": {},
   "outputs": [
    {
     "data": {
      "image/png": "[encoded data removed]",
      "text/plain": [
       "<Figure size 432x288 with 2 Axes>"
      ]
     },
     "metadata": {
      "needs_background": "light"
     },
     "output_type": "display_data"
    }
   ],
   "source": [
    "# Understand distribution of words to fix max_length for summary and review\n",
    "import matplotlib.pyplot as plt\n",
    "\n",
    "text_word_count = []\n",
    "summary_word_count = []\n",
    "\n",
    "# populate the lists with sentence lengths\n",
    "for i in data['cleaned_text']:\n",
    "      text_word_count.append(len(i.split()))\n",
    "\n",
    "for i in data['cleaned_summary']:\n",
    "      summary_word_count.append(len(i.split()))\n",
    "\n",
    "length_df = pd.DataFrame({'text':text_word_count, 'summary':summary_word_count})\n",
    "\n",
    "length_df.hist(bins = 30)\n",
    "plt.show()"
   ]
  },
  {
   "cell_type": "code",
   "execution_count": 23,
   "metadata": {},
   "outputs": [
    {
     "name": "stdout",
     "output_type": "stream",
     "text": [
      "0.0\n"
     ]
    }
   ],
   "source": [
    "# Understand proportion of length of summaries < 8\n",
    "cnt=0\n",
    "for i in data['cleaned_summary']:\n",
    "    if(len(i.split())<=8):\n",
    "        cnt=cnt+1\n",
    "print(cnt/len(data['cleaned_summary']))"
   ]
  },
  {
   "cell_type": "code",
   "execution_count": 24,
   "metadata": {},
   "outputs": [],
   "source": [
    "max_text_len=3800\n",
    "max_summary_len=200"
   ]
  },
  {
   "cell_type": "code",
   "execution_count": 25,
   "metadata": {},
   "outputs": [],
   "source": [
    "# Select reviews & summaries with determined max_length\n",
    "cleaned_text =np.array(data['cleaned_text'])\n",
    "cleaned_summary=np.array(data['cleaned_summary'])\n",
    "\n",
    "short_text=[]\n",
    "short_summary=[]\n",
    "\n",
    "for i in range(len(cleaned_text)):\n",
    "    if(len(cleaned_summary[i].split())<=max_summary_len and len(cleaned_text[i].split())<=max_text_len):\n",
    "        short_text.append(cleaned_text[i])\n",
    "        short_summary.append(cleaned_summary[i])\n",
    "        \n",
    "df=pd.DataFrame({'text':short_text,'summary':short_summary})"
   ]
  },
  {
   "cell_type": "code",
   "execution_count": 26,
   "metadata": {},
   "outputs": [],
   "source": [
    "# Apply unique START and END token\n",
    "df['summary'] = df['summary'].apply(lambda x : 'sostok '+ x + ' eostok')"
   ]
  },
  {
   "cell_type": "code",
   "execution_count": 27,
   "metadata": {},
   "outputs": [],
   "source": [
    "# 90% Training data and 10% holdout set\n",
    "from sklearn.model_selection import train_test_split\n",
    "x_tr,x_val,y_tr,y_val=train_test_split(np.array(df['text']),np.array(df['summary']),test_size=0.1,random_state=0,shuffle=True)"
   ]
  },
  {
   "cell_type": "code",
   "execution_count": 28,
   "metadata": {},
   "outputs": [],
   "source": [
    "# Preparing Tokenizer for reviews on training data\n",
    "from keras.preprocessing.text import Tokenizer \n",
    "from keras.preprocessing.sequence import pad_sequences\n",
    "\n",
    "#prepare a tokenizer for reviews on training data\n",
    "x_tokenizer = Tokenizer() \n",
    "x_tokenizer.fit_on_texts(list(x_tr))"
   ]
  },
  {
   "cell_type": "code",
   "execution_count": 29,
   "metadata": {},
   "outputs": [
    {
     "name": "stdout",
     "output_type": "stream",
     "text": [
      "% of rare words in vocabulary: 60.45619037175128\n",
      "Total Coverage of rare words: 3.051350260786394\n"
     ]
    }
   ],
   "source": [
    "# Rarewords and coverage\n",
    "# -- threshold is 4 => Below 4 is rareword\n",
    "thresh=4\n",
    "\n",
    "cnt=0 # no. of rare words below threshold\n",
    "tot_cnt=0 # size of vocabulary (unique words in text)\n",
    "freq=0\n",
    "tot_freq=0\n",
    "\n",
    "for key,value in x_tokenizer.word_counts.items():\n",
    "    tot_cnt=tot_cnt+1\n",
    "    tot_freq=tot_freq+value\n",
    "    if(value<thresh):\n",
    "        cnt=cnt+1\n",
    "        freq=freq+value\n",
    "    \n",
    "print(\"% of rare words in vocabulary:\",(cnt/tot_cnt)*100)\n",
    "print(\"Total Coverage of rare words:\",(freq/tot_freq)*100)"
   ]
  },
  {
   "cell_type": "code",
   "execution_count": 30,
   "metadata": {},
   "outputs": [],
   "source": [
    "# Tokenizer with Top most common words\n",
    "#prepare a tokenizer for reviews on training data\n",
    "x_tokenizer = Tokenizer(num_words=tot_cnt-cnt) # tot_cnt - cnt gives me the top most common words\n",
    "x_tokenizer.fit_on_texts(list(x_tr))\n",
    "\n",
    "#convert text sequences into integer sequences\n",
    "x_tr_seq    =   x_tokenizer.texts_to_sequences(x_tr) \n",
    "x_val_seq   =   x_tokenizer.texts_to_sequences(x_val)\n",
    "\n",
    "#padding zero upto maximum length\n",
    "x_tr    =   pad_sequences(x_tr_seq,  maxlen=max_text_len, padding='post')\n",
    "x_val   =   pad_sequences(x_val_seq, maxlen=max_text_len, padding='post')\n",
    "\n",
    "#size of vocabulary ( +1 for padding token)\n",
    "x_voc   =  x_tokenizer.num_words + 1"
   ]
  },
  {
   "cell_type": "code",
   "execution_count": 31,
   "metadata": {},
   "outputs": [
    {
     "data": {
      "text/plain": [
       "3607"
      ]
     },
     "execution_count": 31,
     "metadata": {},
     "output_type": "execute_result"
    }
   ],
   "source": [
    "x_voc"
   ]
  },
  {
   "cell_type": "markdown",
   "metadata": {},
   "source": [
    "## Summary Tokenizer "
   ]
  },
  {
   "cell_type": "code",
   "execution_count": 32,
   "metadata": {},
   "outputs": [
    {
     "name": "stdout",
     "output_type": "stream",
     "text": [
      "% of rare words in vocabulary: 74.56846950517837\n",
      "Total Coverage of rare words: 12.31496062992126\n"
     ]
    }
   ],
   "source": [
    "#prepare a tokenizer for reviews on training data\n",
    "y_tokenizer = Tokenizer()   \n",
    "y_tokenizer.fit_on_texts(list(y_tr))\n",
    "\n",
    "thresh=6\n",
    "\n",
    "cnt=0\n",
    "tot_cnt=0\n",
    "freq=0\n",
    "tot_freq=0\n",
    "\n",
    "for key,value in y_tokenizer.word_counts.items():\n",
    "    tot_cnt=tot_cnt+1\n",
    "    tot_freq=tot_freq+value\n",
    "    if(value<thresh):\n",
    "        cnt=cnt+1\n",
    "        freq=freq+value\n",
    "    \n",
    "print(\"% of rare words in vocabulary:\",(cnt/tot_cnt)*100)\n",
    "print(\"Total Coverage of rare words:\",(freq/tot_freq)*100)"
   ]
  },
  {
   "cell_type": "code",
   "execution_count": 33,
   "metadata": {},
   "outputs": [],
   "source": [
    "#prepare a tokenizer for reviews on training data\n",
    "y_tokenizer = Tokenizer(num_words=tot_cnt-cnt) \n",
    "y_tokenizer.fit_on_texts(list(y_tr))\n",
    "\n",
    "#convert text sequences into integer sequences\n",
    "y_tr_seq    =   y_tokenizer.texts_to_sequences(y_tr) \n",
    "y_val_seq   =   y_tokenizer.texts_to_sequences(y_val) \n",
    "\n",
    "#padding zero upto maximum length\n",
    "y_tr    =   pad_sequences(y_tr_seq, maxlen=max_summary_len, padding='post')\n",
    "y_val   =   pad_sequences(y_val_seq, maxlen=max_summary_len, padding='post')\n",
    "\n",
    "#size of vocabulary\n",
    "y_voc  =   y_tokenizer.num_words +1"
   ]
  },
  {
   "cell_type": "code",
   "execution_count": 34,
   "metadata": {},
   "outputs": [
    {
     "data": {
      "text/plain": [
       "(122, 122)"
      ]
     },
     "execution_count": 34,
     "metadata": {},
     "output_type": "execute_result"
    }
   ],
   "source": [
    "# Check whether word count with start token is == length of training data\n",
    "y_tokenizer.word_counts['sostok'],len(y_tr)"
   ]
  },
  {
   "cell_type": "code",
   "execution_count": 35,
   "metadata": {},
   "outputs": [],
   "source": [
    "# Delete Rows with only START & END token\n",
    "ind=[]\n",
    "for i in range(len(y_tr)):\n",
    "    cnt=0\n",
    "    for j in y_tr[i]:\n",
    "        if j!=0:\n",
    "            cnt=cnt+1\n",
    "    if(cnt==2):\n",
    "        ind.append(i)\n",
    "\n",
    "y_tr=np.delete(y_tr,ind, axis=0)\n",
    "x_tr=np.delete(x_tr,ind, axis=0)"
   ]
  },
  {
   "cell_type": "code",
   "execution_count": 36,
   "metadata": {},
   "outputs": [],
   "source": [
    "ind=[]\n",
    "for i in range(len(y_val)):\n",
    "    cnt=0\n",
    "    for j in y_val[i]:\n",
    "        if j!=0:\n",
    "            cnt=cnt+1\n",
    "    if(cnt==2):\n",
    "        ind.append(i)\n",
    "\n",
    "y_val=np.delete(y_val,ind, axis=0)\n",
    "x_val=np.delete(x_val,ind, axis=0)"
   ]
  },
  {
   "cell_type": "markdown",
   "metadata": {},
   "source": [
    "## Model Building\n",
    "- Return Sequences = True: When the return sequences parameter is set to True, LSTM produces the hidden state and cell state for every timestep\n",
    "- Return State = True: When return state = True, LSTM produces the hidden state and cell state of the last timestep only\n",
    "- Initial State: This is used to initialize the internal states of the LSTM for the first timestep\n",
    "- Stacked LSTM: Stacked LSTM has multiple layers of LSTM stacked on top of each other. This leads to a better representation of the sequence. I encourage you to experiment with the multiple layers of the LSTM stacked on top of each other (it’s a great way to learn this)"
   ]
  },
  {
   "cell_type": "code",
   "execution_count": 37,
   "metadata": {},
   "outputs": [
    {
     "name": "stdout",
     "output_type": "stream",
     "text": [
      "Model: \"model\"\n",
      "__________________________________________________________________________________________________\n",
      "Layer (type)                    Output Shape         Param #     Connected to                     \n",
      "==================================================================================================\n",
      "input_1 (InputLayer)            [(None, 3800)]       0                                            \n",
      "__________________________________________________________________________________________________\n",
      "embedding (Embedding)           (None, 3800, 100)    360700      input_1[0][0]                    \n",
      "__________________________________________________________________________________________________\n",
      "lstm (LSTM)                     [(None, 3800, 300),  481200      embedding[0][0]                  \n",
      "__________________________________________________________________________________________________\n",
      "input_2 (InputLayer)            [(None, None)]       0                                            \n",
      "__________________________________________________________________________________________________\n",
      "lstm_1 (LSTM)                   [(None, 3800, 300),  721200      lstm[0][0]                       \n",
      "__________________________________________________________________________________________________\n",
      "embedding_1 (Embedding)         (None, None, 100)    44300       input_2[0][0]                    \n",
      "__________________________________________________________________________________________________\n",
      "lstm_2 (LSTM)                   [(None, 3800, 300),  721200      lstm_1[0][0]                     \n",
      "__________________________________________________________________________________________________\n",
      "lstm_3 (LSTM)                   [(None, None, 300),  481200      embedding_1[0][0]                \n",
      "                                                                 lstm_2[0][1]                     \n",
      "                                                                 lstm_2[0][2]                     \n",
      "__________________________________________________________________________________________________\n",
      "attention_layer (AttentionLayer ((None, None, 300),  180300      lstm_2[0][0]                     \n",
      "                                                                 lstm_3[0][0]                     \n",
      "__________________________________________________________________________________________________\n",
      "concat_layer (Concatenate)      (None, None, 600)    0           lstm_3[0][0]                     \n",
      "                                                                 attention_layer[0][0]            \n",
      "__________________________________________________________________________________________________\n",
      "time_distributed (TimeDistribut (None, None, 443)    266243      concat_layer[0][0]               \n",
      "==================================================================================================\n",
      "Total params: 3,256,343\n",
      "Trainable params: 3,256,343\n",
      "Non-trainable params: 0\n",
      "__________________________________________________________________________________________________\n"
     ]
    }
   ],
   "source": [
    "from keras import backend as K \n",
    "K.clear_session()\n",
    "\n",
    "latent_dim = 300\n",
    "embedding_dim=100\n",
    "\n",
    "# Encoder\n",
    "encoder_inputs = Input(shape=(max_text_len,))\n",
    "\n",
    "#embedding layer\n",
    "enc_emb =  Embedding(x_voc, embedding_dim,trainable=True)(encoder_inputs)\n",
    "\n",
    "#encoder lstm 1\n",
    "encoder_lstm1 = LSTM(latent_dim,return_sequences=True,return_state=True,dropout=0.4,recurrent_dropout=0.4)\n",
    "encoder_output1, state_h1, state_c1 = encoder_lstm1(enc_emb)\n",
    "\n",
    "#encoder lstm 2\n",
    "encoder_lstm2 = LSTM(latent_dim,return_sequences=True,return_state=True,dropout=0.4,recurrent_dropout=0.4)\n",
    "encoder_output2, state_h2, state_c2 = encoder_lstm2(encoder_output1)\n",
    "\n",
    "#encoder lstm 3\n",
    "encoder_lstm3=LSTM(latent_dim, return_state=True, return_sequences=True,dropout=0.4,recurrent_dropout=0.4)\n",
    "encoder_outputs, state_h, state_c= encoder_lstm3(encoder_output2)\n",
    "\n",
    "# Set up the decoder, using `encoder_states` as initial state.\n",
    "decoder_inputs = Input(shape=(None,))\n",
    "\n",
    "#embedding layer\n",
    "dec_emb_layer = Embedding(y_voc, embedding_dim,trainable=True)\n",
    "dec_emb = dec_emb_layer(decoder_inputs)\n",
    "\n",
    "decoder_lstm = LSTM(latent_dim, return_sequences=True, return_state=True,dropout=0.4,recurrent_dropout=0.2)\n",
    "decoder_outputs,decoder_fwd_state, decoder_back_state = decoder_lstm(dec_emb,initial_state=[state_h, state_c])\n",
    "\n",
    "# Attention layer\n",
    "attn_layer = AttentionLayer(name='attention_layer')\n",
    "attn_out, attn_states = attn_layer([encoder_outputs, decoder_outputs])\n",
    "\n",
    "# Concat attention input and decoder LSTM output\n",
    "decoder_concat_input = Concatenate(axis=-1, name='concat_layer')([decoder_outputs, attn_out])\n",
    "\n",
    "#dense layer\n",
    "decoder_dense =  TimeDistributed(Dense(y_voc, activation='softmax'))\n",
    "decoder_outputs = decoder_dense(decoder_concat_input)\n",
    "\n",
    "# Define the model \n",
    "model = Model([encoder_inputs, decoder_inputs], decoder_outputs)\n",
    "\n",
    "model.summary()"
   ]
  },
  {
   "cell_type": "markdown",
   "metadata": {},
   "source": [
    "### Loss function: sparse categorical cross-entropy"
   ]
  },
  {
   "cell_type": "code",
   "execution_count": 38,
   "metadata": {},
   "outputs": [],
   "source": [
    "model.compile(optimizer='rmsprop', loss='sparse_categorical_crossentropy')\n",
    "\n",
    "# Early Stopping\n",
    "es = EarlyStopping(monitor='val_loss', mode='min', verbose=1,patience=2)"
   ]
  },
  {
   "cell_type": "code",
   "execution_count": null,
   "metadata": {},
   "outputs": [
    {
     "name": "stdout",
     "output_type": "stream",
     "text": [
      "Train on 122 samples, validate on 14 samples\n",
      "Epoch 1/20\n"
     ]
    }
   ],
   "source": [
    "history=model.fit([x_tr,y_tr[:,:-1]], y_tr.reshape(y_tr.shape[0],y_tr.shape[1], 1)[:,1:] ,epochs=20,callbacks=[es],batch_size=10, validation_data=([x_val,y_val[:,:-1]], y_val.reshape(y_val.shape[0],y_val.shape[1], 1)[:,1:]))"
   ]
  },
  {
   "cell_type": "markdown",
   "metadata": {},
   "source": [
    "## Understand diagnostic plot"
   ]
  },
  {
   "cell_type": "code",
   "execution_count": null,
   "metadata": {},
   "outputs": [],
   "source": [
    "from matplotlib import pyplot\n",
    "pyplot.plot(history.history['loss'], label='train')\n",
    "pyplot.plot(history.history['val_loss'], label='test')\n",
    "pyplot.legend()\n",
    "pyplot.show()"
   ]
  },
  {
   "cell_type": "code",
   "execution_count": null,
   "metadata": {},
   "outputs": [],
   "source": [
    "# Build dictionary to convert index into words (target & source vocab)\n",
    "reverse_target_word_index=y_tokenizer.index_word\n",
    "reverse_source_word_index=x_tokenizer.index_word\n",
    "target_word_index=y_tokenizer.word_index"
   ]
  },
  {
   "cell_type": "code",
   "execution_count": null,
   "metadata": {},
   "outputs": [],
   "source": [
    "# Encode the input sequence to get the feature vector\n",
    "encoder_model = Model(inputs=encoder_inputs,outputs=[encoder_outputs, state_h, state_c])\n",
    "\n",
    "# Decoder setup\n",
    "# Below tensors will hold the states of the previous time step\n",
    "decoder_state_input_h = Input(shape=(latent_dim,))\n",
    "decoder_state_input_c = Input(shape=(latent_dim,))\n",
    "decoder_hidden_state_input = Input(shape=(max_text_len,latent_dim))\n",
    "\n",
    "# Get the embeddings of the decoder sequence\n",
    "dec_emb2= dec_emb_layer(decoder_inputs) \n",
    "# To predict the next word in the sequence, set the initial states to the states from the previous time step\n",
    "decoder_outputs2, state_h2, state_c2 = decoder_lstm(dec_emb2, initial_state=[decoder_state_input_h, decoder_state_input_c])\n",
    "\n",
    "#attention inference\n",
    "attn_out_inf, attn_states_inf = attn_layer([decoder_hidden_state_input, decoder_outputs2])\n",
    "decoder_inf_concat = Concatenate(axis=-1, name='concat')([decoder_outputs2, attn_out_inf])\n",
    "\n",
    "# A dense softmax layer to generate prob dist. over the target vocabulary\n",
    "decoder_outputs2 = decoder_dense(decoder_inf_concat) \n",
    "\n",
    "# Final decoder model\n",
    "decoder_model = Model(\n",
    "    [decoder_inputs] + [decoder_hidden_state_input,decoder_state_input_h, decoder_state_input_c],\n",
    "    [decoder_outputs2] + [state_h2, state_c2])"
   ]
  },
  {
   "cell_type": "code",
   "execution_count": null,
   "metadata": {},
   "outputs": [],
   "source": [
    "# https://machinelearningmastery.com/save-load-keras-deep-learning-models/\n",
    "\n",
    "## Saving Models\n",
    "# encoder_model.save(\"./encoder_model1.h5\")\n",
    "# decoder_model.save(\"./decoder_model1.h5\")\n",
    "\n",
    "## Loading Model\n",
    "# encoder_model = load_model(\"./encoder_model1.h5\", custom_objects={'AttentionLayer': AttentionLayer})\n",
    "# decoder_model = load_model(\"./decoder_model1.h5\", custom_objects={'AttentionLayer': AttentionLayer})"
   ]
  },
  {
   "cell_type": "markdown",
   "metadata": {},
   "source": [
    "## Inference process\n",
    "1. Encode the entire input sequence and initialize the decoder with internal states of the encoder\n",
    "2. Pass <start> token as an input to the decoder\n",
    "3. Run the decoder for one timestep with the internal states\n",
    "4. The output will be the probability for the next word. The word with the maximum probability will be selected\n",
    "5. Pass the sampled word as an input to the decoder in the next timestep and update the internal states with the current time step\n",
    "6. Repeat steps 3 – 5 until we generate <end> token or hit the maximum length of the target sequence"
   ]
  },
  {
   "cell_type": "code",
   "execution_count": null,
   "metadata": {},
   "outputs": [],
   "source": [
    "def decode_sequence(input_seq):\n",
    "    # Encode the input as state vectors.\n",
    "    e_out, e_h, e_c = encoder_model.predict(input_seq)\n",
    "    \n",
    "    # Generate empty target sequence of length 1.\n",
    "    target_seq = np.zeros((1,1))\n",
    "    \n",
    "    # Populate the first word of target sequence with the start word.\n",
    "    target_seq[0, 0] = target_word_index['sostok']\n",
    "\n",
    "    stop_condition = False\n",
    "    decoded_sentence = ''\n",
    "    while not stop_condition:\n",
    "      \n",
    "        output_tokens, h, c = decoder_model.predict([target_seq] + [e_out, e_h, e_c])\n",
    "\n",
    "        # Sample a token\n",
    "        sampled_token_index = np.argmax(output_tokens[0, -1, :])\n",
    "        sampled_token = reverse_target_word_index[sampled_token_index]\n",
    "        \n",
    "        if(sampled_token!='eostok'):\n",
    "            decoded_sentence += ' '+sampled_token\n",
    "\n",
    "        # Exit condition: either hit max length or find stop word.\n",
    "        if (sampled_token == 'eostok'  or len(decoded_sentence.split()) >= (max_summary_len-1)):\n",
    "            stop_condition = True\n",
    "\n",
    "        # Update the target sequence (of length 1).\n",
    "        target_seq = np.zeros((1,1))\n",
    "        target_seq[0, 0] = sampled_token_index\n",
    "\n",
    "        # Update internal states\n",
    "        e_h, e_c = h, c\n",
    "\n",
    "    return decoded_sentence"
   ]
  },
  {
   "cell_type": "code",
   "execution_count": null,
   "metadata": {},
   "outputs": [],
   "source": [
    "# Convert int sequence --> word sequence\n",
    "def seq2summary(input_seq):\n",
    "    newString=''\n",
    "    for i in input_seq:\n",
    "        if((i!=0 and i!=target_word_index['sostok']) and i!=target_word_index['eostok']):\n",
    "            newString=newString+reverse_target_word_index[i]+' '\n",
    "    return newString\n",
    "\n",
    "def seq2text(input_seq):\n",
    "    newString=''\n",
    "    for i in input_seq:\n",
    "        if(i!=0):\n",
    "            newString=newString+reverse_source_word_index[i]+' '\n",
    "    return newString"
   ]
  },
  {
   "cell_type": "code",
   "execution_count": null,
   "metadata": {},
   "outputs": [],
   "source": [
    "for i in range(0,20):\n",
    "    print(\"Review:\",seq2text(x_tr[i]))\n",
    "    print(\"Original summary:\",seq2summary(y_tr[i]))\n",
    "    print(\"Predicted summary:\",decode_sequence(x_tr[i].reshape(1,max_text_len)))\n",
    "    print(\"\\n\")"
   ]
  },
  {
   "cell_type": "code",
   "execution_count": null,
   "metadata": {},
   "outputs": [],
   "source": []
  },
  {
   "cell_type": "code",
   "execution_count": null,
   "metadata": {},
   "outputs": [],
   "source": []
  },
  {
   "cell_type": "code",
   "execution_count": null,
   "metadata": {},
   "outputs": [],
   "source": []
  },
  {
   "cell_type": "code",
   "execution_count": null,
   "metadata": {},
   "outputs": [],
   "source": []
  }
 ],
 "metadata": {
  "environment": {
   "name": "tf2-gpu.2-1.m55",
   "type": "gcloud",
   "uri": "gcr.io/deeplearning-platform-release/tf2-gpu.2-1:m55"
  },
  "kernelspec": {
   "display_name": "Python 3",
   "language": "python",
   "name": "python3"
  },
  "language_info": {
   "codemirror_mode": {
    "name": "ipython",
    "version": 3
   },
   "file_extension": ".py",
   "mimetype": "text/x-python",
   "name": "python",
   "nbconvert_exporter": "python",
   "pygments_lexer": "ipython3",
   "version": "3.7.8"
  }
 },
 "nbformat": 4,
 "nbformat_minor": 4
}
